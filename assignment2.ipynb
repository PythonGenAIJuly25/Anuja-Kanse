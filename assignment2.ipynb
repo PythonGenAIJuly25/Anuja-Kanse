{
  "cells": [
    {
      "cell_type": "markdown",
      "metadata": {
        "id": "Aqj3sTxcX4ZN"
      },
      "source": [
        "# Module 2: Control Flow Assignments\n",
        "## Lesson 2.1: Conditional Statements\n",
        "### Assignment 1: Simple if Statement\n",
        "\n",
        "Write a program that asks the user to input a number and prints whether the number is positive.\n",
        "\n",
        "### Assignment 2: if-else Statement\n",
        "\n",
        "Write a program that asks the user to input a number and prints whether the number is positive or negative.\n",
        "\n",
        "### Assignment 3: if-elif-else Statement\n",
        "\n",
        "Write a program that asks the user to input a number and prints whether the number is positive, negative, or zero.\n",
        "\n",
        "### Assignment 4: Nested if Statement\n",
        "\n",
        "Write a program that asks the user to input a number and prints whether the number is positive and even, positive and odd, or negative.\n",
        "\n",
        "## Lesson 2.2: Loops\n",
        "### Assignment 5: for Loop\n",
        "\n",
        "Write a program that prints all the numbers from 1 to 10 using a for loop.\n",
        "\n",
        "### Assignment 6: while Loop\n",
        "\n",
        "Write a program that prints all the numbers from 1 to 10 using a while loop.\n",
        "\n",
        "### Assignment 7: Nested Loops\n",
        "\n",
        "Write a program that prints a 5x5 grid of asterisks (*) using nested loops.\n",
        "\n",
        "### Assignment 8: break Statement\n",
        "\n",
        "Write a program that asks the user to input numbers until they input 0. The program should print the sum of all the input numbers.\n",
        "\n",
        "### Assignment 9: continue Statement\n",
        "\n",
        "Write a program that prints all the numbers from 1 to 10 except 5 using a for loop and continue statement.\n",
        "\n",
        "### Assignment 10: pass Statement\n",
        "\n",
        "Write a program that defines an empty function using the pass statement.\n",
        "\n",
        "### Assignment 11: Combining Loops and Conditionals\n",
        "\n",
        "Write a program that asks the user to input a number and prints all the even numbers from 1 to that number using a for loop.\n",
        "\n",
        "### Assignment 12: Factorial Calculation\n",
        "\n",
        "Write a program that calculates the factorial of a number input by the user using a while loop.\n",
        "\n",
        "### Assignment 13: Sum of Digits\n",
        "\n",
        "Write a program that calculates the sum of the digits of a number input by the user using a while loop.\n",
        "\n",
        "### Assignment 14: Prime Number Check\n",
        "\n",
        "Write a program that checks if a number input by the user is a prime number using a for loop.\n",
        "\n",
        "### Assignment 15: Fibonacci Sequence\n",
        "\n",
        "Write a program that prints the first n Fibonacci numbers, where n is input by the user."
      ],
      "id": "Aqj3sTxcX4ZN"
    },
    {
      "cell_type": "code",
      "execution_count": null,
      "metadata": {
        "id": "3RyB4D0UX4ZQ",
        "colab": {
          "base_uri": "https://localhost:8080/"
        },
        "outputId": "1c3ed4fc-5c8d-483f-d1f3-05e3daada96c"
      },
      "outputs": [
        {
          "output_type": "stream",
          "name": "stdout",
          "text": [
            "Enter a number:2\n",
            "positive number..\n"
          ]
        }
      ],
      "source": [
        "#Que1\n",
        "num = int (input(\"Enter a number:\"))\n",
        "if num > 0:\n",
        "   print(\"positive number..\")"
      ],
      "id": "3RyB4D0UX4ZQ"
    },
    {
      "cell_type": "code",
      "source": [
        "#Que2\n",
        "num = int (input(\"Enter a number:\"))\n",
        "if num >= 0:\n",
        "   print(\"positive number..\")\n",
        "else:\n",
        "  print(\"negative number..\")"
      ],
      "metadata": {
        "colab": {
          "base_uri": "https://localhost:8080/"
        },
        "id": "udtPGuGwYi94",
        "outputId": "78318d14-de2f-4c54-ee33-ab5393b08528"
      },
      "id": "udtPGuGwYi94",
      "execution_count": null,
      "outputs": [
        {
          "output_type": "stream",
          "name": "stdout",
          "text": [
            "Enter a number:3\n",
            "positive number..\n"
          ]
        }
      ]
    },
    {
      "cell_type": "code",
      "source": [
        "#Que3\n",
        "num = int (input(\"Enter a number:\"))\n",
        "if num > 0:\n",
        "   print(\"positive number..\")\n",
        "elif num < 0:\n",
        "   print(\"negative number..\")\n",
        "else:\n",
        "   print(\"number is zero..\")"
      ],
      "metadata": {
        "colab": {
          "base_uri": "https://localhost:8080/"
        },
        "id": "xURaWawqY5aM",
        "outputId": "0caf9824-006a-4cb6-95e9-5c5efa2c2480"
      },
      "id": "xURaWawqY5aM",
      "execution_count": null,
      "outputs": [
        {
          "output_type": "stream",
          "name": "stdout",
          "text": [
            "Enter a number:-8\n",
            "negative number..\n"
          ]
        }
      ]
    },
    {
      "cell_type": "code",
      "source": [
        "#Que4\n",
        "num = int (input(\"Enter a number:\"))\n",
        "if num >= 0:\n",
        "  if num % 2 == 0:\n",
        "   print(\"positive number and even\")\n",
        "  else:\n",
        "   print(\"positive number and odd\")\n",
        "else:\n",
        "  print(\"negative number..\")"
      ],
      "metadata": {
        "colab": {
          "base_uri": "https://localhost:8080/"
        },
        "id": "or3KAY3OZNv9",
        "outputId": "8c79fb9f-c14b-45d9-bfb1-d8c2a04880ea"
      },
      "id": "or3KAY3OZNv9",
      "execution_count": null,
      "outputs": [
        {
          "output_type": "stream",
          "name": "stdout",
          "text": [
            "Enter a number:4\n",
            "positive number and even\n"
          ]
        }
      ]
    },
    {
      "cell_type": "code",
      "source": [
        "#Que5\n",
        "for i in range (1,11):\n",
        "    print(i)"
      ],
      "metadata": {
        "colab": {
          "base_uri": "https://localhost:8080/"
        },
        "id": "wSrgdPARZzLC",
        "outputId": "ac625447-37c0-425f-8fa3-ad98fa092643"
      },
      "id": "wSrgdPARZzLC",
      "execution_count": null,
      "outputs": [
        {
          "output_type": "stream",
          "name": "stdout",
          "text": [
            "1\n",
            "2\n",
            "3\n",
            "4\n",
            "5\n",
            "6\n",
            "7\n",
            "8\n",
            "9\n",
            "10\n"
          ]
        }
      ]
    },
    {
      "cell_type": "code",
      "source": [
        "#Que6\n",
        "i = 1\n",
        "while i <= 10:\n",
        "  print(i)\n",
        "  i += 1"
      ],
      "metadata": {
        "colab": {
          "base_uri": "https://localhost:8080/"
        },
        "id": "N8hIZXqdZ-G_",
        "outputId": "17ce4fed-9783-4cfe-cdd1-4ee8eb96d879"
      },
      "id": "N8hIZXqdZ-G_",
      "execution_count": null,
      "outputs": [
        {
          "output_type": "stream",
          "name": "stdout",
          "text": [
            "1\n",
            "2\n",
            "3\n",
            "4\n",
            "5\n",
            "6\n",
            "7\n",
            "8\n",
            "9\n",
            "10\n"
          ]
        }
      ]
    },
    {
      "cell_type": "code",
      "source": [
        "#Que7\n",
        "for i in range(5):\n",
        "  for j in range(5):\n",
        "    print(\"*\",end=\" \")\n",
        "  print()"
      ],
      "metadata": {
        "colab": {
          "base_uri": "https://localhost:8080/"
        },
        "id": "TU1nQS2OakxT",
        "outputId": "95aedad2-9cf8-49c6-c3fa-2c9f692346f6"
      },
      "id": "TU1nQS2OakxT",
      "execution_count": null,
      "outputs": [
        {
          "output_type": "stream",
          "name": "stdout",
          "text": [
            "* * * * * \n",
            "* * * * * \n",
            "* * * * * \n",
            "* * * * * \n",
            "* * * * * \n"
          ]
        }
      ]
    },
    {
      "cell_type": "code",
      "source": [
        "#Que8\n",
        "total = 0\n",
        "while True:\n",
        "  num=int(input(\"enter a number(0 to stop): \"))\n",
        "  if num == 0:\n",
        "    break\n",
        "  total += num\n",
        "print(\"sum of input num:\",total)"
      ],
      "metadata": {
        "colab": {
          "base_uri": "https://localhost:8080/"
        },
        "id": "-jUBauxIa2_f",
        "outputId": "01bea50e-5f44-47bc-b5e5-7573944ab0d4"
      },
      "id": "-jUBauxIa2_f",
      "execution_count": null,
      "outputs": [
        {
          "output_type": "stream",
          "name": "stdout",
          "text": [
            "enter a number(0 to stop): 2\n",
            "enter a number(0 to stop): 21\n",
            "enter a number(0 to stop): 12\n",
            "enter a number(0 to stop): 12\n",
            "enter a number(0 to stop): 0\n",
            "sum of input num: 47\n"
          ]
        }
      ]
    },
    {
      "cell_type": "code",
      "source": [
        "#Que9\n",
        "for i in range(1,11):\n",
        "  if i == 5:\n",
        "     continue\n",
        "  print(i)"
      ],
      "metadata": {
        "colab": {
          "base_uri": "https://localhost:8080/"
        },
        "id": "5CqrgYVubdIE",
        "outputId": "cc5446f5-fc91-4e57-81e4-97f1e801207a"
      },
      "id": "5CqrgYVubdIE",
      "execution_count": null,
      "outputs": [
        {
          "output_type": "stream",
          "name": "stdout",
          "text": [
            "1\n",
            "2\n",
            "3\n",
            "4\n",
            "6\n",
            "7\n",
            "8\n",
            "9\n",
            "10\n"
          ]
        }
      ]
    },
    {
      "cell_type": "code",
      "source": [
        "#Que10\n",
        "def my_fun():\n",
        "  pass"
      ],
      "metadata": {
        "id": "ziYiMZK6by2_"
      },
      "id": "ziYiMZK6by2_",
      "execution_count": null,
      "outputs": []
    },
    {
      "cell_type": "code",
      "source": [
        "#Que11\n",
        "num = int(input(\"enter num:\"))\n",
        "for i in range(1,num + 1):\n",
        "  if i % 2 == 0:\n",
        "    print(i)"
      ],
      "metadata": {
        "colab": {
          "base_uri": "https://localhost:8080/"
        },
        "id": "lQqte8zLb8-V",
        "outputId": "7d07639c-d493-4a88-8b65-500bbf1c2c37"
      },
      "id": "lQqte8zLb8-V",
      "execution_count": null,
      "outputs": [
        {
          "output_type": "stream",
          "name": "stdout",
          "text": [
            "enter num:8\n",
            "2\n",
            "4\n",
            "6\n",
            "8\n"
          ]
        }
      ]
    },
    {
      "cell_type": "code",
      "source": [
        "#Que12\n",
        "num = int(input(\"enter num:\"))\n",
        "factorial = 1\n",
        "while num > 0:\n",
        "  factorial *= num\n",
        "  num -= 1\n",
        "print(\"factorial is:\",factorial)"
      ],
      "metadata": {
        "colab": {
          "base_uri": "https://localhost:8080/"
        },
        "id": "L6CD_SkqcRsN",
        "outputId": "503f3e86-6b6b-4ea0-88b4-edaf57b93d31"
      },
      "id": "L6CD_SkqcRsN",
      "execution_count": null,
      "outputs": [
        {
          "output_type": "stream",
          "name": "stdout",
          "text": [
            "enter num:6\n",
            "factorial is: 720\n"
          ]
        }
      ]
    },
    {
      "cell_type": "code",
      "source": [
        "#Que13\n",
        "num = int (input(\"enter number:\"))\n",
        "sum = 0\n",
        "while num > 0:\n",
        "  digit = num % 10\n",
        "  sum += digit\n",
        "  num //= 10\n",
        "print(\"sum of digit:\",sum)"
      ],
      "metadata": {
        "colab": {
          "base_uri": "https://localhost:8080/"
        },
        "id": "YaL2KHw6cwV7",
        "outputId": "48d908bb-1aff-4f9c-d3e4-3245c487d40e"
      },
      "id": "YaL2KHw6cwV7",
      "execution_count": null,
      "outputs": [
        {
          "output_type": "stream",
          "name": "stdout",
          "text": [
            "enter number:645\n",
            "sum of digit: 15\n"
          ]
        }
      ]
    },
    {
      "cell_type": "code",
      "source": [
        "#Que14\n",
        "num = int(input(\"enter num:\"))\n",
        "prime = True\n",
        "\n",
        "if num <= 1 :\n",
        "  prime = False\n",
        "else:\n",
        "  for i in range(2,int(num ** 0.5)+ 1):\n",
        "    if num % i == 0:\n",
        "      prime = False\n",
        "      break\n",
        "if prime:\n",
        "  print(\"prime number\",num)\n",
        "else:\n",
        "  print(\"not prime\",num)"
      ],
      "metadata": {
        "colab": {
          "base_uri": "https://localhost:8080/"
        },
        "id": "6AEa0PZadUvS",
        "outputId": "27055aac-3a8c-484c-b0e6-2ee1129d89bc"
      },
      "id": "6AEa0PZadUvS",
      "execution_count": null,
      "outputs": [
        {
          "output_type": "stream",
          "name": "stdout",
          "text": [
            "enter num:4\n",
            "not prime 4\n"
          ]
        }
      ]
    },
    {
      "cell_type": "code",
      "source": [
        "#Que15\n",
        "n = int(input(\"enter number of terms:\"))\n",
        "a,b = 0,1\n",
        "count = 0\n",
        "while count < n:\n",
        "  print(a,end = \" \")\n",
        "  a, b = b,a+b\n",
        "  count += 1\n"
      ],
      "metadata": {
        "colab": {
          "base_uri": "https://localhost:8080/"
        },
        "id": "oyKOrNpSeMVb",
        "outputId": "ec0a394f-b3e5-42ae-c0dc-d122c3924a0e"
      },
      "id": "oyKOrNpSeMVb",
      "execution_count": null,
      "outputs": [
        {
          "output_type": "stream",
          "name": "stdout",
          "text": [
            "enter number of terms:12\n",
            "0 1 1 2 3 5 8 13 21 34 55 89 "
          ]
        }
      ]
    },
    {
      "cell_type": "code",
      "source": [],
      "metadata": {
        "id": "6PraK6gEesh2"
      },
      "id": "6PraK6gEesh2",
      "execution_count": null,
      "outputs": []
    }
  ],
  "metadata": {
    "kernelspec": {
      "display_name": "Python 3",
      "language": "python",
      "name": "python3"
    },
    "language_info": {
      "codemirror_mode": {
        "name": "ipython",
        "version": 3
      },
      "file_extension": ".py",
      "mimetype": "text/x-python",
      "name": "python",
      "nbconvert_exporter": "python",
      "pygments_lexer": "ipython3",
      "version": "3.9.7"
    },
    "colab": {
      "provenance": []
    }
  },
  "nbformat": 4,
  "nbformat_minor": 5
}