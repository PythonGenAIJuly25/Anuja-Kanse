{
 "cells": [
  {
   "cell_type": "markdown",
   "id": "b701af3a",
   "metadata": {},
   "source": [
    "# Module 4: Advanced Functions Assignments\n",
    "## Lesson 4.1: Defining Functions\n",
    "\n",
    "## TRY TO SOLVE AS MANY AS YOU CAN!\n",
    "### Assignment 1: Fibonacci Sequence with Memoization\n",
    "\n",
    "Define a recursive function to calculate the nth Fibonacci number using memoization. Test the function with different inputs.\n",
    "\n",
    "### Assignment 2: Function with Nested Default Arguments\n",
    "\n",
    "Define a function that takes two arguments, a and b, where b is a dictionary with a default value of an empty dictionary. The function should add a new key-value pair to the dictionary and return it. Test the function with different inputs.\n",
    "\n",
    "### Assignment 3: Function with Variable Keyword Arguments\n",
    "\n",
    "Define a function that takes a variable number of keyword arguments and returns a dictionary containing only those key-value pairs where the value is an integer. Test the function with different inputs.\n",
    "\n",
    "### Assignment 4: Function with Callback\n",
    "\n",
    "Define a function that takes another function as a callback and a list of integers. The function should apply the callback to each integer in the list and return a new list with the results. Test with different callback functions.\n",
    "\n",
    "### Assignment 5: Function that Returns a Function\n",
    "\n",
    "Define a function that returns another function. The returned function should take an integer and return its square. Test the returned function with different inputs.\n",
    "\n",
    "### Assignment 6: Function with Decorators\n",
    "\n",
    "Define a function that calculates the time taken to execute another function. Apply this decorator to a function that performs a complex calculation. Test the decorated function with different inputs.\n",
    "\n",
    "### Assignment 7: Higher-Order Function for Filtering and Mapping\n",
    "\n",
    "Define a higher-order function that takes two functions, a filter function and a map function, along with a list of integers. The higher-order function should first filter the integers using the filter function and then apply the map function to the filtered integers. Test with different filter and map functions.\n",
    "\n",
    "### Assignment 8: Function Composition\n",
    "\n",
    "Define a function that composes two functions, f and g, such that the result is f(g(x)). Test with different functions f and g.\n",
    "\n",
    "### Assignment 9: Partial Function Application\n",
    "\n",
    "Use the functools.partial function to create a new function that multiplies its input by 2. Test the new function with different inputs.\n",
    "\n",
    "### Assignment 10: Function with Error Handling\n",
    "\n",
    "Define a function that takes a list of integers and returns their average. The function should handle any errors that occur (e.g., empty list) and return None in such cases. Test with different inputs.\n",
    "\n",
    "### Assignment 11: Function with Generators\n",
    "\n",
    "Define a function that generates an infinite sequence of Fibonacci numbers. Test by printing the first 10 numbers in the sequence.\n",
    "\n",
    "### Assignment 12: Currying\n",
    "\n",
    "Define a curried function that takes three arguments, one at a time, and returns their product. Test the function by providing arguments one at a time.\n",
    "\n",
    "### Assignment 13: Function with Context Manager\n",
    "\n",
    "Define a function that uses a context manager to write a list of integers to a file. The function should handle any errors that occur during file operations. Test with different lists.\n",
    "\n",
    "### Assignment 14: Function with Multiple Return Types\n",
    "\n",
    "Define a function that takes a list of mixed data types (integers, strings, and floats) and returns three lists: one containing all the integers, one containing all the strings, and one containing all the floats. Test with different inputs.\n",
    "\n",
    "### Assignment 15: Function with State\n",
    "\n",
    "Define a function that maintains state between calls using a mutable default argument. The function should keep track of how many times it has been called. Test by calling the function multiple times."
   ]
  },
  {
   "cell_type": "code",
   "execution_count": 3,
   "id": "393000a6",
   "metadata": {},
   "outputs": [
    {
     "name": "stdout",
     "output_type": "stream",
     "text": [
      "144\n",
      "17711\n"
     ]
    }
   ],
   "source": [
    "#que 1\n",
    "def fibo(n, memo={}):\n",
    "    if n in memo:\n",
    "        return memo[n]\n",
    "    if n <= 1:\n",
    "        return n\n",
    "    memo[n] = fibo(n-1, memo) + fibo(n-2, memo)\n",
    "    return memo[n]\n",
    "\n",
    "\n",
    "print(fibo(12))  \n",
    "print(fibo(22)) \n"
   ]
  },
  {
   "cell_type": "code",
   "execution_count": 4,
   "id": "2c59b9aa",
   "metadata": {},
   "outputs": [
    {
     "name": "stdout",
     "output_type": "stream",
     "text": [
      "{'x': 0}\n",
      "{'x': 0, 'y': 1}\n",
      "{'z': 0}\n"
     ]
    }
   ],
   "source": [
    "#que 2\n",
    "def add_key_value(a, b={}):\n",
    "    b[a] = len(b)\n",
    "    return b\n",
    "\n",
    "print(add_key_value(\"x\"))          \n",
    "print(add_key_value(\"y\"))          \n",
    "print(add_key_value(\"z\", {}))"
   ]
  },
  {
   "cell_type": "code",
   "execution_count": 7,
   "id": "7da140fe",
   "metadata": {},
   "outputs": [
    {
     "name": "stdout",
     "output_type": "stream",
     "text": [
      "{'a': 1, 'd': 4}\n"
     ]
    }
   ],
   "source": [
    "#que 3\n",
    "def filterint(**kwargs):\n",
    "    return {k: v for k, v in kwargs.items() if isinstance(v, int)}\n",
    "\n",
    "print(filterint(a=1, b='hello', c=3.5, d=4))"
   ]
  },
  {
   "cell_type": "code",
   "execution_count": 6,
   "id": "3590bc53",
   "metadata": {},
   "outputs": [
    {
     "name": "stdout",
     "output_type": "stream",
     "text": [
      "[1, 4, 9]\n",
      "[2, 4, 6]\n"
     ]
    }
   ],
   "source": [
    "#que 4\n",
    "def applycallb(callback, numbers):\n",
    "    return [callback(n) for n in numbers]\n",
    "\n",
    "def square(x): \n",
    "    return x * x\n",
    "def double(x): \n",
    "    return x * 2\n",
    "\n",
    "print(applycallb(square, [1, 2, 3]))   \n",
    "print(applycallb(double, [1, 2, 3])) "
   ]
  },
  {
   "cell_type": "code",
   "execution_count": 8,
   "id": "0082c36b",
   "metadata": {},
   "outputs": [
    {
     "name": "stdout",
     "output_type": "stream",
     "text": [
      "25\n",
      "100\n"
     ]
    }
   ],
   "source": [
    "#que 5\n",
    "def get_square_function():\n",
    "    def square(x):\n",
    "        return x * x\n",
    "    return square\n",
    "\n",
    "sqfun = get_square_function()\n",
    "print(sqfun(5))   \n",
    "print(sqfun(10))"
   ]
  },
  {
   "cell_type": "code",
   "execution_count": null,
   "id": "987d3dc8",
   "metadata": {},
   "outputs": [
    {
     "name": "stdout",
     "output_type": "stream",
     "text": [
      "10\n",
      "20\n"
     ]
    }
   ],
   "source": [
    "#que 9\n",
    "from functools import partial\n",
    "\n",
    "def multi(x, y):\n",
    "    return x * y\n",
    "\n",
    "double = partial(multi, 2)\n",
    "\n",
    "print(double(8))   \n",
    "print(double(16)) "
   ]
  },
  {
   "cell_type": "code",
   "execution_count": 12,
   "id": "5a52458c",
   "metadata": {},
   "outputs": [
    {
     "name": "stdout",
     "output_type": "stream",
     "text": [
      "88.0\n",
      "None\n"
     ]
    }
   ],
   "source": [
    "#que 10\n",
    "def average(num):\n",
    "    try:\n",
    "        return sum(num) / len(num)\n",
    "    except ZeroDivisionError:\n",
    "        return None\n",
    "\n",
    "print(average([99, 88, 77]))  \n",
    "print(average([])) "
   ]
  },
  {
   "cell_type": "code",
   "execution_count": 14,
   "id": "7517d0d8",
   "metadata": {},
   "outputs": [
    {
     "name": "stdout",
     "output_type": "stream",
     "text": [
      "0 1 1 2 3 5 8 13 21 34 55 89 144 233 377 610 987 1597 2584 4181 \n"
     ]
    }
   ],
   "source": [
    "#que 11\n",
    "def fib_generator():\n",
    "    a, b = 0, 1\n",
    "    while True:\n",
    "        yield a\n",
    "        a, b = b, a + b\n",
    "\n",
    "gen = fib_generator()\n",
    "for _ in range(20):\n",
    "    print(next(gen), end=\" \")  \n",
    "print()"
   ]
  },
  {
   "cell_type": "code",
   "execution_count": 18,
   "id": "38a6b55e",
   "metadata": {},
   "outputs": [
    {
     "name": "stdout",
     "output_type": "stream",
     "text": [
      "Data written to sample.txt\n"
     ]
    }
   ],
   "source": [
    "#que 13\n",
    "def writef(numbers, filename='sample.txt'):\n",
    "    try:\n",
    "        with open(filename, 'w') as f:\n",
    "            for num in numbers:\n",
    "                f.write(str(num) + '\\n')\n",
    "        print(f\"Data written to {filename}\")\n",
    "    except Exception as e:\n",
    "        print(f\"Error: {e}\")\n",
    "\n",
    "writef([1, 2, 3, 4, 5])"
   ]
  },
  {
   "cell_type": "code",
   "execution_count": 22,
   "id": "e50a542c",
   "metadata": {},
   "outputs": [
    {
     "name": "stdout",
     "output_type": "stream",
     "text": [
      "integers: [1, 3, 5]\n",
      "strings: ['qwerty', 'keyboard']\n",
      "floats: [5.1, 9.0]\n"
     ]
    }
   ],
   "source": [
    "#que 14\n",
    "def  SeperateDataTypes(data):\n",
    "    ints = []\n",
    "    strs = []\n",
    "    floats = []\n",
    "    for item in data:\n",
    "        if isinstance(item, int):\n",
    "            ints.append(item)\n",
    "        elif isinstance(item, str):\n",
    "            strs.append(item)\n",
    "        elif isinstance(item, float):\n",
    "            floats.append(item)\n",
    "    return ints, strs, floats\n",
    "\n",
    "mixed_data = [1, \"qwerty\", 5.1, 3, \"keyboard\", 9.0, 5]\n",
    "ints, strs, floats = SeperateDataTypes(mixed_data)\n",
    "print(\"integers:\", ints)   \n",
    "print(\"strings:\", strs)    \n",
    "print(\"floats:\", floats)   \n"
   ]
  }
 ],
 "metadata": {
  "kernelspec": {
   "display_name": "Python 3",
   "language": "python",
   "name": "python3"
  },
  "language_info": {
   "codemirror_mode": {
    "name": "ipython",
    "version": 3
   },
   "file_extension": ".py",
   "mimetype": "text/x-python",
   "name": "python",
   "nbconvert_exporter": "python",
   "pygments_lexer": "ipython3",
   "version": "3.12.10"
  }
 },
 "nbformat": 4,
 "nbformat_minor": 5
}
