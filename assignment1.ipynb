{
  "cells": [
    {
      "cell_type": "markdown",
      "metadata": {
        "id": "_Z1C_lN9ckD_"
      },
      "source": [
        "# Python Basics\n",
        "## Topics Covered:\n",
        "- Syntax and Semantics\n",
        "- Variables and Data Types\n",
        "- Basic Operators (Arithmetic, Comparison, Logical)\n"
      ]
    },
    {
      "cell_type": "markdown",
      "metadata": {
        "id": "2qX2Yn5GckEA"
      },
      "source": [
        "## 1. Syntax and Semantics\n",
        "\n",
        "**Question 1:** Write a Python program to print \"Hello, World!\"."
      ]
    },
    {
      "cell_type": "code",
      "execution_count": null,
      "metadata": {
        "id": "-CD3eBaIckEB",
        "colab": {
          "base_uri": "https://localhost:8080/"
        },
        "outputId": "632a5b71-4748-4b63-9751-b51b28c448d8"
      },
      "outputs": [
        {
          "output_type": "stream",
          "name": "stdout",
          "text": [
            "Hello,World!\n"
          ]
        }
      ],
      "source": [
        "print(\"Hello,World!\")"
      ]
    },
    {
      "cell_type": "markdown",
      "metadata": {
        "id": "jD9uamqCckEB"
      },
      "source": [
        "**Question 2:** Write a Python program that takes a user input and prints it."
      ]
    },
    {
      "cell_type": "code",
      "execution_count": null,
      "metadata": {
        "id": "zD6fd8xHckEB",
        "colab": {
          "base_uri": "https://localhost:8080/"
        },
        "outputId": "60575839-f564-4e1f-9bd3-55dcf05a950d"
      },
      "outputs": [
        {
          "output_type": "stream",
          "name": "stdout",
          "text": [
            "enter name:anuja\n",
            "anuja\n"
          ]
        }
      ],
      "source": [
        "name = input(\"enter name:\")\n",
        "print(name)"
      ]
    },
    {
      "cell_type": "markdown",
      "metadata": {
        "id": "9DvK03OuckEB"
      },
      "source": [
        "**Question 3:** Write a Python program to check if a number is positive, negative, or zero."
      ]
    },
    {
      "cell_type": "code",
      "execution_count": null,
      "metadata": {
        "id": "kRpTRa7fckEB",
        "colab": {
          "base_uri": "https://localhost:8080/"
        },
        "outputId": "6ba9f45f-c6b7-4943-be48-4b3b511acf8b"
      },
      "outputs": [
        {
          "output_type": "stream",
          "name": "stdout",
          "text": [
            "enter a number:-9\n",
            "the number is negative\n"
          ]
        }
      ],
      "source": [
        "num = float(input(\"enter a number:\"))\n",
        "if num > 0:\n",
        "    print(\"the number is positive\")\n",
        "elif num < 0:\n",
        "    print(\"the number is negative\")\n",
        "else:\n",
        "  print(\"the number is zero\")"
      ]
    },
    {
      "cell_type": "markdown",
      "metadata": {
        "id": "jOTE89BEckEB"
      },
      "source": [
        "**Question 4:** Write a Python program to find the largest of three numbers."
      ]
    },
    {
      "cell_type": "code",
      "execution_count": null,
      "metadata": {
        "id": "qC0p1qVkckEC",
        "colab": {
          "base_uri": "https://localhost:8080/"
        },
        "outputId": "9245d319-f6a1-490a-d382-50b77a5d7a22"
      },
      "outputs": [
        {
          "output_type": "stream",
          "name": "stdout",
          "text": [
            "Enter 1st number:12\n",
            "enter 2nd number:23\n",
            "enter 3rd number:32\n",
            "largest num is: 32.0\n"
          ]
        }
      ],
      "source": [
        "# Your code here\n",
        "x = float(input(\"Enter 1st number:\"))\n",
        "y = float(input(\"enter 2nd number:\"))\n",
        "z = float(input(\"enter 3rd number:\"))\n",
        "if x >= y and x >= z:\n",
        "    print(\"largest num is:\",x)\n",
        "elif y >= x and y >= z:\n",
        "  print(\"largest num is:\",y)\n",
        "else:\n",
        "  print(\"largest num is:\",z)\n",
        "\n"
      ]
    },
    {
      "cell_type": "markdown",
      "metadata": {
        "id": "i33DsjV9ckEC"
      },
      "source": [
        "**Question 5:** Write a Python program to calculate the factorial of a number."
      ]
    },
    {
      "cell_type": "code",
      "execution_count": null,
      "metadata": {
        "id": "3m324GV1ckEC",
        "colab": {
          "base_uri": "https://localhost:8080/"
        },
        "outputId": "1018e42b-7dd9-43b3-c42a-871a4a1e58d4"
      },
      "outputs": [
        {
          "output_type": "stream",
          "name": "stdout",
          "text": [
            "enter a number:3\n",
            "factorial of num is:} 7\n"
          ]
        }
      ],
      "source": [
        "# Your code here\n",
        "num = int(input(\"enter a number:\"))\n",
        "factorial = 1\n",
        "if num < 0:\n",
        "  print(\"factorial not exists for negative numbers\")\n",
        "elif num == 0:\n",
        "  print(\"factorial of 0 is 1\")\n",
        "else:\n",
        "  for i in range(1,num + 1):\n",
        "    factorial += i\n",
        "  print(\"factorial of num is:\",factorial)\n"
      ]
    },
    {
      "cell_type": "markdown",
      "metadata": {
        "id": "n7qWNvf-ckEC"
      },
      "source": [
        "## 2. Variables and Data Types\n",
        "\n",
        "**Question 6:** Create variables of different data types: integer, float, string, and boolean. Print their values and types."
      ]
    },
    {
      "cell_type": "code",
      "execution_count": null,
      "metadata": {
        "id": "oUVCMtnjckEC",
        "colab": {
          "base_uri": "https://localhost:8080/"
        },
        "outputId": "4e2d31b2-2fc2-4114-ec98-5bbfc1a4e39d"
      },
      "outputs": [
        {
          "output_type": "stream",
          "name": "stdout",
          "text": [
            "value 10 | Type:\n",
            "value 10.5 | Type:\n",
            "value anuja | Type:\n",
            "value True | Type:\n"
          ]
        },
        {
          "output_type": "execute_result",
          "data": {
            "text/plain": [
              "bool"
            ]
          },
          "metadata": {},
          "execution_count": 14
        }
      ],
      "source": [
        "# Your code here\n",
        "a = 10\n",
        "print(\"value\",a,\"| Type:\"),\n",
        "type(a)\n",
        "\n",
        "b = 10.5\n",
        "print(\"value\",b,\"| Type:\"),\n",
        "type(b)\n",
        "\n",
        "c = \"anuja\"\n",
        "print(\"value\",c,\"| Type:\"),\n",
        "type(c)\n",
        "\n",
        "d = True\n",
        "print(\"value\",d,\"| Type:\"),\n",
        "type(d)"
      ]
    },
    {
      "cell_type": "markdown",
      "metadata": {
        "id": "6kylxSHEckEC"
      },
      "source": [
        "**Question 7:** Write a Python program to swap the values of two variables."
      ]
    },
    {
      "cell_type": "code",
      "execution_count": null,
      "metadata": {
        "id": "l1ADsb8DckEC",
        "colab": {
          "base_uri": "https://localhost:8080/"
        },
        "outputId": "06f4e0a1-ac0d-4199-bbb3-b603e0d4bee3"
      },
      "outputs": [
        {
          "output_type": "stream",
          "name": "stdout",
          "text": [
            "1st value:2\n",
            "2nd value:3\n",
            "after swap 1st: 3\n",
            "after swap 2nd: 2\n"
          ]
        }
      ],
      "source": [
        "# Your code here\n",
        "a = int(input(\"1st value:\"))\n",
        "b = int(input(\"2nd value:\"))\n",
        "\n",
        "a,b = b,a\n",
        "print(\"after swap 1st:\",a)\n",
        "print(\"after swap 2nd:\",b)"
      ]
    },
    {
      "cell_type": "markdown",
      "metadata": {
        "id": "DhV87zJRckEC"
      },
      "source": [
        "**Question 8:** Write a Python program to convert Celsius to Fahrenheit."
      ]
    },
    {
      "cell_type": "code",
      "execution_count": null,
      "metadata": {
        "id": "UABD4tyXckEC",
        "colab": {
          "base_uri": "https://localhost:8080/"
        },
        "outputId": "e15bbcbf-02c0-4535-eb62-311086a0d978"
      },
      "outputs": [
        {
          "output_type": "stream",
          "name": "stdout",
          "text": [
            "enater temp in cel:20\n",
            "20.0 is eqaul to 68.0\n"
          ]
        }
      ],
      "source": [
        "# Your code here\n",
        "celsius = float(input(\"enater temp in cel:\"))\n",
        "fahrenheit = (celsius * 9/5) + 32\n",
        "print(f\"{celsius} is eqaul to {fahrenheit}\")"
      ]
    },
    {
      "cell_type": "markdown",
      "metadata": {
        "id": "qn4Ocu0dckEC"
      },
      "source": [
        "**Question 9:** Write a Python program to concatenate two strings."
      ]
    },
    {
      "cell_type": "code",
      "execution_count": null,
      "metadata": {
        "id": "XF2HNpzRckED",
        "colab": {
          "base_uri": "https://localhost:8080/"
        },
        "outputId": "36a02aee-a9d9-488d-8f37-b76dd8cb8e99"
      },
      "outputs": [
        {
          "output_type": "stream",
          "name": "stdout",
          "text": [
            "enter 1st string:wwq\n",
            "enter 2nd string:qw\n",
            "wwqqw\n"
          ]
        }
      ],
      "source": [
        "# Your code here\n",
        "str1 = input(\"enter 1st string:\")\n",
        "str2 = input(\"enter 2nd string:\")\n",
        "\n",
        "result = str1 + str2\n",
        "print(result)"
      ]
    },
    {
      "cell_type": "markdown",
      "metadata": {
        "id": "JvQeiIHrckED"
      },
      "source": [
        "**Question 10:** Write a Python program to check if a variable is of a specific data type."
      ]
    },
    {
      "cell_type": "code",
      "execution_count": 5,
      "metadata": {
        "id": "FapdR0HWckED",
        "colab": {
          "base_uri": "https://localhost:8080/"
        },
        "outputId": "d1febc61-9096-4e87-f380-a63e3544b213"
      },
      "outputs": [
        {
          "output_type": "stream",
          "name": "stdout",
          "text": [
            "enter variable:3\n",
            "variable is integer\n"
          ]
        }
      ],
      "source": [
        "# Your code here\n",
        "var = int(input(\"enter variable:\"))\n",
        "if isinstance(var,int):\n",
        "      print(\"variable is integer\")\n",
        "else:\n",
        "      print(\"variable is not integer\")"
      ]
    },
    {
      "cell_type": "markdown",
      "metadata": {
        "id": "8BWE5CLDckED"
      },
      "source": [
        "## 3. Basic Operators (Arithmetic, Comparison, Logical)\n",
        "\n",
        "**Question 11:** Write a Python program to perform arithmetic operations: addition, subtraction, multiplication, and division."
      ]
    },
    {
      "cell_type": "code",
      "execution_count": 6,
      "metadata": {
        "id": "5Sn7WDPEckED",
        "colab": {
          "base_uri": "https://localhost:8080/"
        },
        "outputId": "8796d80b-8da6-42ce-a525-6bc57e349fee"
      },
      "outputs": [
        {
          "output_type": "stream",
          "name": "stdout",
          "text": [
            "addition: 40\n",
            "substraction: -20\n",
            "multiplication: 300\n",
            "division: 0.3333333333333333\n"
          ]
        }
      ],
      "source": [
        "# Your code here\n",
        "x = 10\n",
        "y = 30\n",
        "print(\"addition:\",x+y)\n",
        "print(\"substraction:\",x-y)\n",
        "print(\"multiplication:\",x*y)\n",
        "print(\"division:\",x/y)"
      ]
    },
    {
      "cell_type": "markdown",
      "metadata": {
        "id": "9wXbRjrYckED"
      },
      "source": [
        "**Question 12:** Write a Python program to demonstrate comparison operators: equal to, not equal to, greater than, less than."
      ]
    },
    {
      "cell_type": "code",
      "execution_count": 8,
      "metadata": {
        "id": "aV4xnKxkckED",
        "colab": {
          "base_uri": "https://localhost:8080/"
        },
        "outputId": "8cc16680-fd37-45bd-9c8b-1e2af45b42fd"
      },
      "outputs": [
        {
          "output_type": "stream",
          "name": "stdout",
          "text": [
            "equal to: False\n",
            "not equal to: True\n",
            "greater than: False\n",
            "less than: True\n"
          ]
        }
      ],
      "source": [
        "# Your code here\n",
        "x = 10\n",
        "y = 40\n",
        "print(\"equal to:\",x == y)\n",
        "print(\"not equal to:\",x != y)\n",
        "print(\"greater than:\",x > y)\n",
        "print(\"less than:\",x < y)"
      ]
    },
    {
      "cell_type": "markdown",
      "metadata": {
        "id": "AmWh1l6OckED"
      },
      "source": [
        "**Question 13:** Write a Python program to demonstrate logical operators: and, or, not."
      ]
    },
    {
      "cell_type": "code",
      "execution_count": 9,
      "metadata": {
        "id": "BCMntOlJckED",
        "colab": {
          "base_uri": "https://localhost:8080/"
        },
        "outputId": "2e0373cd-f16c-49d9-a2df-efc968c4a7d4"
      },
      "outputs": [
        {
          "output_type": "stream",
          "name": "stdout",
          "text": [
            "a and b: False\n",
            "a or b: True\n",
            "not a: False\n"
          ]
        }
      ],
      "source": [
        "# Your code here\n",
        "a = True\n",
        "b = False\n",
        "\n",
        "print(\"a and b:\", a and b)\n",
        "print(\"a or b:\", a or b)\n",
        "print(\"not a:\", not a)"
      ]
    },
    {
      "cell_type": "markdown",
      "metadata": {
        "id": "pwfq6yABckED"
      },
      "source": [
        "**Question 14:** Write a Python program to calculate the square of a number."
      ]
    },
    {
      "cell_type": "code",
      "execution_count": 10,
      "metadata": {
        "id": "orhkWadyckED",
        "colab": {
          "base_uri": "https://localhost:8080/"
        },
        "outputId": "4142a0da-3f75-48d6-aa1f-7c66020e3799"
      },
      "outputs": [
        {
          "output_type": "stream",
          "name": "stdout",
          "text": [
            "Enter a number: 6\n",
            "Square of given 6 is 36\n"
          ]
        }
      ],
      "source": [
        "# Your code here\n",
        "num = int(input(\"Enter a number: \"))\n",
        "square = num ** 2\n",
        "print(\"Square of given\", num, \"is\", square)"
      ]
    },
    {
      "cell_type": "markdown",
      "metadata": {
        "id": "0fWfXWbhckED"
      },
      "source": [
        "**Question 15:** Write a Python program to check if a number is even or odd."
      ]
    },
    {
      "cell_type": "code",
      "execution_count": 11,
      "metadata": {
        "id": "9Iiw5L-HckED",
        "colab": {
          "base_uri": "https://localhost:8080/"
        },
        "outputId": "92960cde-83ce-4fe0-ca03-64e0e9e443af"
      },
      "outputs": [
        {
          "output_type": "stream",
          "name": "stdout",
          "text": [
            "Enter a number: 7\n",
            "7 is Odd\n"
          ]
        }
      ],
      "source": [
        "# Your code here\n",
        "num = int(input(\"Enter a number: \"))\n",
        "if num % 2 == 0:\n",
        "    print(num, \"is Even\")\n",
        "else:\n",
        "    print(num, \"is Odd\")"
      ]
    },
    {
      "cell_type": "markdown",
      "metadata": {
        "id": "xfqO0j6-ckEE"
      },
      "source": [
        "**Question 16:** Write a Python program to find the sum of the first n natural numbers."
      ]
    },
    {
      "cell_type": "code",
      "execution_count": 12,
      "metadata": {
        "id": "2G30ejSZckEE",
        "colab": {
          "base_uri": "https://localhost:8080/"
        },
        "outputId": "89a18057-d489-41b7-a692-baa270535ba5"
      },
      "outputs": [
        {
          "output_type": "stream",
          "name": "stdout",
          "text": [
            "Enter a number: 8\n",
            "Sum of first 8 natural numbers is 36\n"
          ]
        }
      ],
      "source": [
        "# Your code here\n",
        "n = int(input(\"Enter a number: \"))\n",
        "total = n * (n + 1) // 2\n",
        "print(\"Sum of first\", n, \"natural numbers is\", total)"
      ]
    },
    {
      "cell_type": "markdown",
      "metadata": {
        "id": "b1--d-QnckEE"
      },
      "source": [
        "**Question 17:** Write a Python program to check if a year is a leap year."
      ]
    },
    {
      "cell_type": "code",
      "execution_count": 13,
      "metadata": {
        "id": "RIO7tZSAckEE",
        "colab": {
          "base_uri": "https://localhost:8080/"
        },
        "outputId": "83fcdf68-825e-42cb-974c-550c61023b4f"
      },
      "outputs": [
        {
          "output_type": "stream",
          "name": "stdout",
          "text": [
            "Enter a year: 2025\n",
            "2025 is not a Leap Year\n"
          ]
        }
      ],
      "source": [
        "# Your code here\n",
        "year = int(input(\"Enter a year: \"))\n",
        "if (year % 4 == 0 and year % 100 != 0) or (year % 400 == 0):\n",
        "    print(year, \"is a Leap Year\")\n",
        "else:\n",
        "    print(year, \"is not a Leap Year\")"
      ]
    },
    {
      "cell_type": "markdown",
      "metadata": {
        "id": "-Ta-1bbsckEE"
      },
      "source": [
        "**Question 18:** Write a Python program to reverse a string."
      ]
    },
    {
      "cell_type": "code",
      "execution_count": 14,
      "metadata": {
        "id": "Nd74b2b7ckEE",
        "colab": {
          "base_uri": "https://localhost:8080/"
        },
        "outputId": "8488a0c4-aa7f-4c07-9612-e388a00437b2"
      },
      "outputs": [
        {
          "output_type": "stream",
          "name": "stdout",
          "text": [
            "Enter a string: abc\n",
            "Reversed string: cba\n"
          ]
        }
      ],
      "source": [
        "# Your code here\n",
        "string = input(\"Enter a string: \")\n",
        "reversed_string = string[::-1]\n",
        "print(\"Reversed string:\", reversed_string)"
      ]
    },
    {
      "cell_type": "markdown",
      "metadata": {
        "id": "DRI-tP-hckEE"
      },
      "source": [
        "**Question 19:** Write a Python program to check if a string is a palindrome."
      ]
    },
    {
      "cell_type": "code",
      "execution_count": 15,
      "metadata": {
        "id": "YAnkwmq9ckEE",
        "colab": {
          "base_uri": "https://localhost:8080/"
        },
        "outputId": "a6b721c3-c48e-45e6-fb31-252df1931af8"
      },
      "outputs": [
        {
          "output_type": "stream",
          "name": "stdout",
          "text": [
            "Enter a string: bob\n",
            "bob is a Palindrome\n"
          ]
        }
      ],
      "source": [
        "# Your code here\n",
        "string = input(\"Enter a string: \")\n",
        "if string == string[::-1]:\n",
        "    print(string, \"is a Palindrome\")\n",
        "else:\n",
        "    print(string, \"is not a Palindrome\")"
      ]
    },
    {
      "cell_type": "markdown",
      "metadata": {
        "id": "-cwI1QwickEI"
      },
      "source": [
        "**Question 20:** Write a Python program to sort a list of numbers in ascending order."
      ]
    },
    {
      "cell_type": "code",
      "execution_count": 16,
      "metadata": {
        "id": "TYZ8CZ6kckEI",
        "colab": {
          "base_uri": "https://localhost:8080/"
        },
        "outputId": "1fc213ef-a39f-41fc-f0b7-4aea8cf7440c"
      },
      "outputs": [
        {
          "output_type": "stream",
          "name": "stdout",
          "text": [
            "Enter numbers separated by space: 1 4 3 6 3 6\n",
            "Sorted list in ascending order: [1, 3, 3, 4, 6, 6]\n"
          ]
        }
      ],
      "source": [
        "# Your code here\n",
        "numbers = list(map(int, input(\"Enter numbers separated by space: \").split()))\n",
        "numbers.sort()\n",
        "print(\"Sorted list in ascending order:\", numbers)"
      ]
    },
    {
      "cell_type": "code",
      "source": [],
      "metadata": {
        "id": "nMR8GCDLuZCS"
      },
      "execution_count": null,
      "outputs": []
    }
  ],
  "metadata": {
    "kernelspec": {
      "display_name": "Python 3",
      "language": "python",
      "name": "python3"
    },
    "language_info": {
      "codemirror_mode": {
        "name": "ipython",
        "version": 3
      },
      "file_extension": ".py",
      "mimetype": "text/x-python",
      "name": "python",
      "nbconvert_exporter": "python",
      "pygments_lexer": "ipython3",
      "version": "3.8.5"
    },
    "colab": {
      "provenance": []
    }
  },
  "nbformat": 4,
  "nbformat_minor": 0
}