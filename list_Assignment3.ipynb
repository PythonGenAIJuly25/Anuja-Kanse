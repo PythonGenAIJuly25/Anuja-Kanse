{
  "cells": [
    {
      "cell_type": "markdown",
      "metadata": {
        "id": "AYRzzlsWe37u"
      },
      "source": [
        "# Module 3: Data Structures Assignments\n",
        "## Lesson 3.1: Lists\n",
        "### Assignment 1: Creating and Accessing Lists\n",
        "\n",
        "Create a list of the first 20 positive integers. Print the list.\n",
        "\n",
        "### Assignment 2: Accessing List Elements\n",
        "\n",
        "Print the first, middle, and last elements of the list created in Assignment 1.\n",
        "\n",
        "### Assignment 3: List Slicing\n",
        "\n",
        "Print the first five elements, the last five elements, and the elements from index 5 to 15 of the list created in Assignment 1.\n",
        "\n",
        "### Assignment 4: List Comprehensions\n",
        "\n",
        "Create a new list containing the squares of the first 10 positive integers using a list comprehension. Print the new list.\n",
        "\n",
        "### Assignment 5: Filtering Lists\n",
        "\n",
        "Create a new list containing only the even numbers from the list created in Assignment 1 using a list comprehension. Print the new list.\n",
        "\n",
        "### Assignment 6: List Methods\n",
        "\n",
        "Create a list of random numbers and sort it in ascending and descending order. Remove the duplicates from the list and print the modified list.\n",
        "\n",
        "### Assignment 7: Nested Lists\n",
        "\n",
        "Create a nested list representing a 3x3 matrix and print the matrix. Access and print the element at the second row and third column.\n",
        "\n",
        "### Assignment 8: List of Dictionaries\n",
        "\n",
        "Create a list of dictionaries where each dictionary represents a student with keys 'name' and 'score'. Sort the list of dictionaries by the 'score' in descending order and print the sorted list.\n",
        "\n",
        "### Assignment 9: Matrix Transposition\n",
        "\n",
        "Write a function that takes a 3x3 matrix (nested list) as input and returns its transpose. Print the original and transposed matrices.\n",
        "\n",
        "### Assignment 10: Flattening a Nested List\n",
        "\n",
        "Write a function that takes a nested list and flattens it into a single list. Print the original and flattened lists.\n",
        "\n",
        "### Assignment 11: List Manipulation\n",
        "\n",
        "Create a list of the first 10 positive integers. Remove the elements at indices 2, 4, and 6, and insert the element '99' at index 5. Print the modified list.\n",
        "\n",
        "### Assignment 12: List Zipping\n",
        "\n",
        "Create two lists of the same length. Use the `zip` function to combine these lists into a list of tuples and print the result.\n",
        "\n",
        "### Assignment 13: List Reversal\n",
        "\n",
        "Write a function that takes a list and returns a new list with the elements in reverse order. Print the original and reversed lists.\n",
        "\n",
        "### Assignment 14: List Rotation\n",
        "\n",
        "Write a function that rotates a list by n positions. Print the original and rotated lists.\n",
        "\n",
        "### Assignment 15: List Intersection\n",
        "\n",
        "Write a function that takes two lists and returns a new list containing only the elements that are present in both lists. Print the intersected list."
      ],
      "id": "AYRzzlsWe37u"
    },
    {
      "cell_type": "code",
      "execution_count": 3,
      "metadata": {
        "id": "Fyw1vPNOe37w",
        "colab": {
          "base_uri": "https://localhost:8080/"
        },
        "outputId": "cc621f18-681a-4358-8ef3-9b30a4fb0287"
      },
      "outputs": [
        {
          "output_type": "stream",
          "name": "stdout",
          "text": [
            "List: [1, 2, 3, 4, 5, 6, 7, 8, 9, 10, 11, 12, 13, 14, 15, 16, 17, 18, 19, 20]\n"
          ]
        }
      ],
      "source": [
        "#Que 1\n",
        "num = [11,22,33,45,23,98,67,34,90,55,44,9,3,76,23,90,96,17,4,31]\n",
        "num1 = list(range(1,21))\n",
        "print(\"List:\",num1)"
      ],
      "id": "Fyw1vPNOe37w"
    },
    {
      "cell_type": "code",
      "source": [
        "#Que 2\n",
        "print(\"1st element:\",num[0])\n",
        "print(\"middle element:\",num[len(num) // 2])\n",
        "print(\"last element:\",num[-1])"
      ],
      "metadata": {
        "colab": {
          "base_uri": "https://localhost:8080/"
        },
        "id": "vCKvc0kWfRFz",
        "outputId": "38a9970c-9ed5-462a-bb1d-c4bde05899c0"
      },
      "id": "vCKvc0kWfRFz",
      "execution_count": 4,
      "outputs": [
        {
          "output_type": "stream",
          "name": "stdout",
          "text": [
            "1st element: 11\n",
            "middle element: 44\n",
            "last element: 31\n"
          ]
        }
      ]
    },
    {
      "cell_type": "code",
      "source": [
        "#Que 3\n",
        "print(\"Start 5 elements:\", num[:5])\n",
        "print(\"End 5 elements:\", num[-5:])\n",
        "print(\"Elements from index 5 to 15:\", num[5:16])"
      ],
      "metadata": {
        "id": "0-EQshunfxjz",
        "colab": {
          "base_uri": "https://localhost:8080/"
        },
        "outputId": "15d3a517-90c3-46dd-883c-ba0dbd692acb"
      },
      "id": "0-EQshunfxjz",
      "execution_count": 5,
      "outputs": [
        {
          "output_type": "stream",
          "name": "stdout",
          "text": [
            "Start 5 elements: [11, 22, 33, 45, 23]\n",
            "End 5 elements: [90, 96, 17, 4, 31]\n",
            "Elements from index 5 to 15: [98, 67, 34, 90, 55, 44, 9, 3, 76, 23, 90]\n"
          ]
        }
      ]
    },
    {
      "cell_type": "code",
      "source": [
        "#Que 4\n",
        "squares = [i*i for i in range(1, 11)]\n",
        "print(\"Squares from 1 to 10:\", squares)"
      ],
      "metadata": {
        "colab": {
          "base_uri": "https://localhost:8080/"
        },
        "id": "L7BMpdQVwrA8",
        "outputId": "06947a14-9b72-43b3-b634-b80d0c23ec55"
      },
      "id": "L7BMpdQVwrA8",
      "execution_count": 6,
      "outputs": [
        {
          "output_type": "stream",
          "name": "stdout",
          "text": [
            "Squares from 1 to 10: [1, 4, 9, 16, 25, 36, 49, 64, 81, 100]\n"
          ]
        }
      ]
    },
    {
      "cell_type": "code",
      "source": [
        "#Que 5\n",
        "even_num = [i for i in num if i % 2 == 0]\n",
        "print(\"Even numbers from list:\", even_num)"
      ],
      "metadata": {
        "colab": {
          "base_uri": "https://localhost:8080/"
        },
        "id": "e4IYgB9Gwqxl",
        "outputId": "41a10efa-0fbf-41aa-bc21-dd8d9dd3c9c9"
      },
      "id": "e4IYgB9Gwqxl",
      "execution_count": 7,
      "outputs": [
        {
          "output_type": "stream",
          "name": "stdout",
          "text": [
            "Even numbers from list: [22, 98, 34, 90, 44, 76, 90, 96, 4]\n"
          ]
        }
      ]
    },
    {
      "cell_type": "code",
      "source": [
        "#Que 6\n",
        "import random\n",
        "data = [random.randint(1, 20) for _ in range(15)]\n",
        "print(\"Random numbers:\", data)\n",
        "unique = list(set(data))\n",
        "unique.sort()\n",
        "print(\"Sorted ascending:\", unique)\n",
        "unique.sort(reverse=True)\n",
        "print(\"Sorted descending:\", unique)"
      ],
      "metadata": {
        "colab": {
          "base_uri": "https://localhost:8080/"
        },
        "id": "R5vw69F9wqSA",
        "outputId": "846590ea-652d-4e18-b9ea-d4822e3d5dac"
      },
      "id": "R5vw69F9wqSA",
      "execution_count": 8,
      "outputs": [
        {
          "output_type": "stream",
          "name": "stdout",
          "text": [
            "Random numbers: [10, 18, 18, 19, 1, 3, 10, 5, 3, 2, 9, 8, 2, 18, 18]\n",
            "Sorted ascending: [1, 2, 3, 5, 8, 9, 10, 18, 19]\n",
            "Sorted descending: [19, 18, 10, 9, 8, 5, 3, 2, 1]\n"
          ]
        }
      ]
    },
    {
      "cell_type": "code",
      "source": [
        "#Que 7\n",
        "matrix = [[1,2,3],[4,5,6],[7,8,9]]\n",
        "print(\"3x3 Matrix:\")\n",
        "for r in matrix:\n",
        "    print(r)\n",
        "print(\"Element at [1][2]:\", matrix[1][2])"
      ],
      "metadata": {
        "colab": {
          "base_uri": "https://localhost:8080/"
        },
        "id": "-syZ9qpewqCU",
        "outputId": "e8b5edfe-a8a3-4ca7-e53e-ed34d099392a"
      },
      "id": "-syZ9qpewqCU",
      "execution_count": 9,
      "outputs": [
        {
          "output_type": "stream",
          "name": "stdout",
          "text": [
            "3x3 Matrix:\n",
            "[1, 2, 3]\n",
            "[4, 5, 6]\n",
            "[7, 8, 9]\n",
            "Element at [1][2]: 6\n"
          ]
        }
      ]
    },
    {
      "cell_type": "code",
      "source": [
        "#Que 8\n",
        "students = [{'name':'Anuja','score':88},{'name':'roshni','score':73},{'name':'sneha','score':95}]\n",
        "sorted_list = sorted(students, key=lambda x: x['score'], reverse=True)\n",
        "print(\"Students sorted by score:\")\n",
        "for s in sorted_list:\n",
        "    print(s)"
      ],
      "metadata": {
        "colab": {
          "base_uri": "https://localhost:8080/"
        },
        "id": "RKcLbRb3wpx1",
        "outputId": "13c2102c-4e0e-43ea-df7f-6e4fe93a0774"
      },
      "id": "RKcLbRb3wpx1",
      "execution_count": 11,
      "outputs": [
        {
          "output_type": "stream",
          "name": "stdout",
          "text": [
            "Students sorted by score:\n",
            "{'name': 'sneha', 'score': 95}\n",
            "{'name': 'Anuja', 'score': 88}\n",
            "{'name': 'roshni', 'score': 73}\n"
          ]
        }
      ]
    },
    {
      "cell_type": "code",
      "source": [
        "#Que 9\n",
        "def transpose(m):\n",
        "    return [[m[j][i] for j in range(len(m))] for i in range(len(m[0]))]\n",
        "\n",
        "mat = [[1,2,3],[4,5,6],[7,8,9]]\n",
        "trans = transpose(mat)\n",
        "print(\"Original matrix:\")\n",
        "for row in mat:\n",
        "    print(row)\n",
        "print(\"Transposed matrix:\")\n",
        "for row in trans:\n",
        "    print(row)"
      ],
      "metadata": {
        "colab": {
          "base_uri": "https://localhost:8080/"
        },
        "id": "b67Tn8ZzwpUk",
        "outputId": "8f040c08-6c7d-4f03-ce0c-73276ea2f813"
      },
      "id": "b67Tn8ZzwpUk",
      "execution_count": 12,
      "outputs": [
        {
          "output_type": "stream",
          "name": "stdout",
          "text": [
            "Original matrix:\n",
            "[1, 2, 3]\n",
            "[4, 5, 6]\n",
            "[7, 8, 9]\n",
            "Transposed matrix:\n",
            "[1, 4, 7]\n",
            "[2, 5, 8]\n",
            "[3, 6, 9]\n"
          ]
        }
      ]
    },
    {
      "cell_type": "code",
      "source": [
        "#Que 10\n",
        "def flatten_list(nested):\n",
        "    return [x for group in nested for x in group]\n",
        "\n",
        "nest = [[1,2],[3,4],[5,6]]\n",
        "flat = flatten_list(nest)\n",
        "print(\"Nested list:\", nest)\n",
        "print(\"Flattened list:\", flat)"
      ],
      "metadata": {
        "colab": {
          "base_uri": "https://localhost:8080/"
        },
        "id": "KXmAOQIvwpIA",
        "outputId": "595c789b-7386-432c-a8f3-72ee8f633f15"
      },
      "id": "KXmAOQIvwpIA",
      "execution_count": 14,
      "outputs": [
        {
          "output_type": "stream",
          "name": "stdout",
          "text": [
            "Nested list: [[1, 2], [3, 4], [5, 6]]\n",
            "Flattened list: [1, 2, 3, 4, 5, 6]\n"
          ]
        }
      ]
    },
    {
      "cell_type": "code",
      "source": [
        "#Que 11\n",
        "data = list(range(1, 11))\n",
        "for i in [6, 4, 2]:\n",
        "    del data[i]\n",
        "data.insert(5, 99)\n",
        "print(\"Updated list:\", data)"
      ],
      "metadata": {
        "colab": {
          "base_uri": "https://localhost:8080/"
        },
        "id": "f8WAPMsZwo5t",
        "outputId": "56e8fc01-53c9-4240-e520-cd9e2a125d6c"
      },
      "id": "f8WAPMsZwo5t",
      "execution_count": 15,
      "outputs": [
        {
          "output_type": "stream",
          "name": "stdout",
          "text": [
            "Updated list: [1, 2, 4, 6, 8, 99, 9, 10]\n"
          ]
        }
      ]
    },
    {
      "cell_type": "code",
      "source": [
        "#Que 12\n",
        "a = ['x', 'y', 'z']\n",
        "b = [10, 20, 30]\n",
        "zipped = list(zip(a, b))\n",
        "print(\"Zipped pairs:\", zipped)"
      ],
      "metadata": {
        "colab": {
          "base_uri": "https://localhost:8080/"
        },
        "id": "HtcLq_oYxHwn",
        "outputId": "7ab16d75-5998-450f-b031-994e02de3106"
      },
      "id": "HtcLq_oYxHwn",
      "execution_count": 16,
      "outputs": [
        {
          "output_type": "stream",
          "name": "stdout",
          "text": [
            "Zipped pairs: [('x', 10), ('y', 20), ('z', 30)]\n"
          ]
        }
      ]
    },
    {
      "cell_type": "code",
      "source": [
        "#Que 13\n",
        "def reverse_elements(lst):\n",
        "    return lst[::-1]\n",
        "\n",
        "original = [11, 22, 33, 44, 55]\n",
        "rev = reverse_elements(original)\n",
        "print(\"Original list:\", original)\n",
        "print(\"Reversed list:\", rev)"
      ],
      "metadata": {
        "colab": {
          "base_uri": "https://localhost:8080/"
        },
        "id": "ZGg2dgRlxHj9",
        "outputId": "5c55ce33-6717-47d0-8a66-7cf378faf821"
      },
      "id": "ZGg2dgRlxHj9",
      "execution_count": 17,
      "outputs": [
        {
          "output_type": "stream",
          "name": "stdout",
          "text": [
            "Original list: [11, 22, 33, 44, 55]\n",
            "Reversed list: [55, 44, 33, 22, 11]\n"
          ]
        }
      ]
    },
    {
      "cell_type": "code",
      "source": [
        "#Que 14\n",
        "def rotate(lst, n):\n",
        "    return lst[n:] + lst[:n]\n",
        "\n",
        "sample = [5, 10, 15, 20, 25]\n",
        "rotated = rotate(sample, 3)\n",
        "print(\"Original:\", sample)\n",
        "print(\"Rotated by 3:\", rotated)"
      ],
      "metadata": {
        "colab": {
          "base_uri": "https://localhost:8080/"
        },
        "id": "zsBDE7XPxOVm",
        "outputId": "f9cb2eae-9999-49f2-94ed-8b0d4308b886"
      },
      "id": "zsBDE7XPxOVm",
      "execution_count": 18,
      "outputs": [
        {
          "output_type": "stream",
          "name": "stdout",
          "text": [
            "Original: [5, 10, 15, 20, 25]\n",
            "Rotated by 3: [20, 25, 5, 10, 15]\n"
          ]
        }
      ]
    },
    {
      "cell_type": "code",
      "source": [
        "#Que 15\n",
        "def intersection(l1, l2):\n",
        "    return [i for i in l1 if i in l2]\n",
        "\n",
        "x = [1,3,5,7,9]\n",
        "y = [2,3,5,8]\n",
        "common = intersection(x, y)\n",
        "print(\"Common numbers:\", common)"
      ],
      "metadata": {
        "colab": {
          "base_uri": "https://localhost:8080/"
        },
        "id": "396JFajGxOOD",
        "outputId": "228f5c6d-d280-4095-dd14-9055a977d938"
      },
      "id": "396JFajGxOOD",
      "execution_count": 19,
      "outputs": [
        {
          "output_type": "stream",
          "name": "stdout",
          "text": [
            "Common numbers: [3, 5]\n"
          ]
        }
      ]
    },
    {
      "cell_type": "code",
      "source": [],
      "metadata": {
        "id": "Mt3BhuvPxVwS"
      },
      "id": "Mt3BhuvPxVwS",
      "execution_count": null,
      "outputs": []
    }
  ],
  "metadata": {
    "kernelspec": {
      "display_name": "Python 3",
      "language": "python",
      "name": "python3"
    },
    "language_info": {
      "codemirror_mode": {
        "name": "ipython",
        "version": 3
      },
      "file_extension": ".py",
      "mimetype": "text/x-python",
      "name": "python",
      "nbconvert_exporter": "python",
      "pygments_lexer": "ipython3",
      "version": "3.9.7"
    },
    "colab": {
      "provenance": []
    }
  },
  "nbformat": 4,
  "nbformat_minor": 5
}