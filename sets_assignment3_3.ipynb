{
  "cells": [
    {
      "cell_type": "markdown",
      "metadata": {
        "id": "FKSWFNjYRrbo"
      },
      "source": [
        "# Module 3: Data Structures Assignments\n",
        "## Lesson 3.3: Sets\n",
        "### Assignment 1: Creating and Accessing Sets\n",
        "\n",
        "Create a set with the first 10 positive integers. Print the set.\n",
        "\n",
        "### Assignment 2: Adding and Removing Elements\n",
        "\n",
        "Add the number 11 to the set created in Assignment 1. Then remove the number 1 from the set. Print the modified set.\n",
        "\n",
        "### Assignment 3: Set Operations\n",
        "\n",
        "Create two sets: one with the first 5 positive integers and another with the first 5 even integers. Perform and print the results of union, intersection, difference, and symmetric difference operations on these sets.\n",
        "\n",
        "### Assignment 4: Set Comprehensions\n",
        "\n",
        "Create a new set containing the squares of the first 10 positive integers using a set comprehension. Print the new set.\n",
        "\n",
        "### Assignment 5: Filtering Sets\n",
        "\n",
        "Create a new set containing only the even numbers from the set created in Assignment 1 using a set comprehension. Print the new set.\n",
        "\n",
        "### Assignment 6: Set Methods\n",
        "\n",
        "Create a set with duplicate elements and remove the duplicates using set methods. Print the modified set.\n",
        "\n",
        "### Assignment 7: Subsets and Supersets\n",
        "\n",
        "Create two sets: one with the first 5 positive integers and another with the first 3 positive integers. Check if the second set is a subset of the first set and if the first set is a superset of the second set. Print the results.\n",
        "\n",
        "### Assignment 8: Frozenset\n",
        "\n",
        "Create a frozenset with the first 5 positive integers. Print the frozenset.\n",
        "\n",
        "### Assignment 9: Set and List Conversion\n",
        "\n",
        "Create a set with the first 5 positive integers. Convert it to a list, append the number 6, and convert it back to a set. Print the resulting set.\n",
        "\n",
        "### Assignment 10: Set and Dictionary\n",
        "\n",
        "Create a dictionary with set keys and integer values. Print the dictionary.\n",
        "\n",
        "### Assignment 11: Iterating Over Sets\n",
        "\n",
        "Create a set and iterate over the elements, printing each element.\n",
        "\n",
        "### Assignment 12: Removing Elements from Sets\n",
        "\n",
        "Create a set and remove elements from it until it is empty. Print the set after each removal.\n",
        "\n",
        "### Assignment 13: Set Symmetric Difference Update\n",
        "\n",
        "Create two sets and update the first set with the symmetric difference of the two sets. Print the modified first set.\n",
        "\n",
        "### Assignment 14: Set Membership Testing\n",
        "\n",
        "Create a set and test if certain elements are present in the set. Print the results.\n",
        "\n",
        "### Assignment 15: Set of Tuples\n",
        "\n",
        "Create a set containing tuples, where each tuple contains two elements. Print the set."
      ],
      "id": "FKSWFNjYRrbo"
    },
    {
      "cell_type": "code",
      "execution_count": 2,
      "metadata": {
        "colab": {
          "base_uri": "https://localhost:8080/"
        },
        "id": "Cc60avhrRrbq",
        "outputId": "bf7ae91e-13af-46d3-e7b8-83a025cabe11"
      },
      "outputs": [
        {
          "output_type": "stream",
          "name": "stdout",
          "text": [
            "Original set: {1, 2, 3, 4, 5, 6, 7, 8, 9}\n"
          ]
        }
      ],
      "source": [
        "#Que 1\n",
        "num = set([1, 2, 3, 4, 5, 6, 7, 8, 9, 2])\n",
        "print(\"Original set:\", num)"
      ],
      "id": "Cc60avhrRrbq"
    },
    {
      "cell_type": "code",
      "source": [
        "#Que 2\n",
        "num.add(23)\n",
        "num.discard(1)\n",
        "print(\"After change:\", num)"
      ],
      "metadata": {
        "colab": {
          "base_uri": "https://localhost:8080/"
        },
        "id": "ODWgNw8JR5jQ",
        "outputId": "9049ae85-0538-4f1c-c574-34dcd96bab24"
      },
      "id": "ODWgNw8JR5jQ",
      "execution_count": 3,
      "outputs": [
        {
          "output_type": "stream",
          "name": "stdout",
          "text": [
            "After change: {2, 3, 4, 5, 6, 7, 8, 9, 23}\n"
          ]
        }
      ]
    },
    {
      "cell_type": "code",
      "source": [
        "#Que 3\n",
        "set_a = {1, 2, 3, 4, 5}\n",
        "set_b = {2, 4, 6, 8, 10}\n",
        "\n",
        "print(\"union:\", set_a | set_b)\n",
        "print(\"intersection:\", set_a & set_b)\n",
        "print(\"difference (a - b):\", set_a - set_b)\n",
        "print(\"symmetric difference:\", set_a ^ set_b)"
      ],
      "metadata": {
        "colab": {
          "base_uri": "https://localhost:8080/"
        },
        "id": "U5paVib4R5S6",
        "outputId": "386e07c1-8654-4de3-eb08-92b24fb173ea"
      },
      "id": "U5paVib4R5S6",
      "execution_count": 4,
      "outputs": [
        {
          "output_type": "stream",
          "name": "stdout",
          "text": [
            "union: {1, 2, 3, 4, 5, 6, 8, 10}\n",
            "intersection: {2, 4}\n",
            "difference (a - b): {1, 3, 5}\n",
            "symmetric difference: {1, 3, 5, 6, 8, 10}\n"
          ]
        }
      ]
    },
    {
      "cell_type": "code",
      "source": [
        "#Que 4\n",
        "squares = {x * x for x in range(1, 11)}\n",
        "print(\"squares using set comprehension:\", squares)"
      ],
      "metadata": {
        "colab": {
          "base_uri": "https://localhost:8080/"
        },
        "id": "sqB5Pr_6R5Fw",
        "outputId": "c263b3e4-d524-43e7-c3a1-269d4714e663"
      },
      "id": "sqB5Pr_6R5Fw",
      "execution_count": 5,
      "outputs": [
        {
          "output_type": "stream",
          "name": "stdout",
          "text": [
            "squares using set comprehension: {64, 1, 4, 36, 100, 9, 16, 49, 81, 25}\n"
          ]
        }
      ]
    },
    {
      "cell_type": "code",
      "source": [
        "#Que 5\n",
        "evens = {n for n in num if n % 2 == 0}\n",
        "print(\"even numbers from set:\", evens)"
      ],
      "metadata": {
        "colab": {
          "base_uri": "https://localhost:8080/"
        },
        "id": "7iauwL2NR45c",
        "outputId": "37994200-86b7-4013-a7cf-9a731b6d36c3"
      },
      "id": "7iauwL2NR45c",
      "execution_count": 6,
      "outputs": [
        {
          "output_type": "stream",
          "name": "stdout",
          "text": [
            "even numbers from set: {8, 2, 4, 6}\n"
          ]
        }
      ]
    },
    {
      "cell_type": "code",
      "source": [
        "#Que 6\n",
        "raw = [1, 2, 2, 3, 4, 4, 5]\n",
        "cleaned = set(raw)\n",
        "print(\"after removing duplicates:\", cleaned)"
      ],
      "metadata": {
        "colab": {
          "base_uri": "https://localhost:8080/"
        },
        "id": "Da3JUc2dR4tQ",
        "outputId": "ee6ffba6-cf1b-4f29-c2d5-12f4c2c7e155"
      },
      "id": "Da3JUc2dR4tQ",
      "execution_count": 7,
      "outputs": [
        {
          "output_type": "stream",
          "name": "stdout",
          "text": [
            "after removing duplicates: {1, 2, 3, 4, 5}\n"
          ]
        }
      ]
    },
    {
      "cell_type": "code",
      "source": [
        "#Que 7\n",
        "a = {1, 2, 3, 4, 5}\n",
        "b = {1, 2, 3}\n",
        "\n",
        "print(\"b is subset of a:\", b.issubset(a))\n",
        "print(\"a is superset of b:\", a.issuperset(b))"
      ],
      "metadata": {
        "colab": {
          "base_uri": "https://localhost:8080/"
        },
        "id": "DGIEV_tsR4gy",
        "outputId": "0d1106b5-0309-479f-e9ee-caac9203be38"
      },
      "id": "DGIEV_tsR4gy",
      "execution_count": 8,
      "outputs": [
        {
          "output_type": "stream",
          "name": "stdout",
          "text": [
            "b is subset of a: True\n",
            "a is superset of b: True\n"
          ]
        }
      ]
    },
    {
      "cell_type": "code",
      "source": [
        "#Que 8\n",
        "f = frozenset([1, 2, 3, 4, 5])\n",
        "print(\"frozen set:\", f)"
      ],
      "metadata": {
        "colab": {
          "base_uri": "https://localhost:8080/"
        },
        "id": "222kU-5mR4UK",
        "outputId": "36a35a25-692b-4ba2-df2b-b35ad1a17073"
      },
      "id": "222kU-5mR4UK",
      "execution_count": 9,
      "outputs": [
        {
          "output_type": "stream",
          "name": "stdout",
          "text": [
            "frozen set: frozenset({1, 2, 3, 4, 5})\n"
          ]
        }
      ]
    },
    {
      "cell_type": "code",
      "source": [
        "#Que 9\n",
        "data = {1, 2, 3, 4, 5}\n",
        "temp = list(data)\n",
        "temp.append(6)\n",
        "updated = set(temp)\n",
        "print(\"modified set:\", updated)"
      ],
      "metadata": {
        "colab": {
          "base_uri": "https://localhost:8080/"
        },
        "id": "BE4F5EmxR4IA",
        "outputId": "bd74c625-98ee-4fdf-acc8-14ddac178cf6"
      },
      "id": "BE4F5EmxR4IA",
      "execution_count": 10,
      "outputs": [
        {
          "output_type": "stream",
          "name": "stdout",
          "text": [
            "modified set: {1, 2, 3, 4, 5, 6}\n"
          ]
        }
      ]
    },
    {
      "cell_type": "code",
      "source": [
        "#Que 10\n",
        "my_dict = {frozenset({1, 2}): 100, frozenset({3, 4}): 200}\n",
        "print(\"dictionary with set keys:\", my_dict)"
      ],
      "metadata": {
        "colab": {
          "base_uri": "https://localhost:8080/"
        },
        "id": "28zAp4m_R371",
        "outputId": "ac336016-5c59-47d9-e33e-4289df1cca19"
      },
      "id": "28zAp4m_R371",
      "execution_count": 11,
      "outputs": [
        {
          "output_type": "stream",
          "name": "stdout",
          "text": [
            "dictionary with set keys: {frozenset({1, 2}): 100, frozenset({3, 4}): 200}\n"
          ]
        }
      ]
    },
    {
      "cell_type": "code",
      "source": [
        "#Que 11\n",
        "items = {10, 20, 30, 40}\n",
        "for i in items:\n",
        "    print(i)"
      ],
      "metadata": {
        "colab": {
          "base_uri": "https://localhost:8080/"
        },
        "id": "TUDTnEqwR3v5",
        "outputId": "308e890b-23c2-47aa-a38c-b69dd6da6913"
      },
      "id": "TUDTnEqwR3v5",
      "execution_count": 12,
      "outputs": [
        {
          "output_type": "stream",
          "name": "stdout",
          "text": [
            "40\n",
            "10\n",
            "20\n",
            "30\n"
          ]
        }
      ]
    },
    {
      "cell_type": "code",
      "source": [
        "#Que 12\n",
        "data = {1, 2, 3, 4}\n",
        "while data:\n",
        "    data.pop()\n",
        "    print(\"Current set:\", data)"
      ],
      "metadata": {
        "colab": {
          "base_uri": "https://localhost:8080/"
        },
        "id": "BGI4mtpFR3kN",
        "outputId": "f4c1bb0f-b10f-40ff-bba6-1b2beca72b12"
      },
      "id": "BGI4mtpFR3kN",
      "execution_count": 13,
      "outputs": [
        {
          "output_type": "stream",
          "name": "stdout",
          "text": [
            "Current set: {2, 3, 4}\n",
            "Current set: {3, 4}\n",
            "Current set: {4}\n",
            "Current set: set()\n"
          ]
        }
      ]
    },
    {
      "cell_type": "code",
      "source": [
        "#Que 13\n",
        "x = {1, 2, 3}\n",
        "y = {3, 4, 5}\n",
        "x.symmetric_difference_update(y)\n",
        "print(\"after symmetric difference update:\", x)"
      ],
      "metadata": {
        "colab": {
          "base_uri": "https://localhost:8080/"
        },
        "id": "v46MjsC_R3XW",
        "outputId": "2e149de3-c3fc-4e1c-82bf-61efdad1ad98"
      },
      "id": "v46MjsC_R3XW",
      "execution_count": 14,
      "outputs": [
        {
          "output_type": "stream",
          "name": "stdout",
          "text": [
            "after symmetric difference update: {1, 2, 4, 5}\n"
          ]
        }
      ]
    },
    {
      "cell_type": "code",
      "source": [
        "#Que 14\n",
        "sample = {10, 20, 30, 40}\n",
        "print(\"is 20 in set?\", 20 in sample)\n",
        "print(\"is 50 in set?\", 50 in sample)"
      ],
      "metadata": {
        "colab": {
          "base_uri": "https://localhost:8080/"
        },
        "id": "FCyzfev2R3J7",
        "outputId": "d70c22fe-d678-4b22-b5f3-241cdc9730c8"
      },
      "id": "FCyzfev2R3J7",
      "execution_count": 15,
      "outputs": [
        {
          "output_type": "stream",
          "name": "stdout",
          "text": [
            "is 20 in set? True\n",
            "is 50 in set? False\n"
          ]
        }
      ]
    },
    {
      "cell_type": "code",
      "source": [
        "#Que 15\n",
        "pair_set = {(1, 'q'), (2, 'w'), (3, 'e')}\n",
        "print(\"set of tuples:\", pair_set)"
      ],
      "metadata": {
        "colab": {
          "base_uri": "https://localhost:8080/"
        },
        "id": "EaoPpc1bSnb_",
        "outputId": "5e0f221a-da54-4994-f137-b61edcb9d13d"
      },
      "id": "EaoPpc1bSnb_",
      "execution_count": 17,
      "outputs": [
        {
          "output_type": "stream",
          "name": "stdout",
          "text": [
            "set of tuples: {(3, 'e'), (1, 'q'), (2, 'w')}\n"
          ]
        }
      ]
    },
    {
      "cell_type": "code",
      "source": [],
      "metadata": {
        "id": "z4y8iqc8UI3L"
      },
      "id": "z4y8iqc8UI3L",
      "execution_count": null,
      "outputs": []
    }
  ],
  "metadata": {
    "kernelspec": {
      "display_name": "Python 3",
      "language": "python",
      "name": "python3"
    },
    "language_info": {
      "codemirror_mode": {
        "name": "ipython",
        "version": 3
      },
      "file_extension": ".py",
      "mimetype": "text/x-python",
      "name": "python",
      "nbconvert_exporter": "python",
      "pygments_lexer": "ipython3",
      "version": "3.9.7"
    },
    "colab": {
      "provenance": []
    }
  },
  "nbformat": 4,
  "nbformat_minor": 5
}