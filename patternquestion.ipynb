{
  "nbformat": 4,
  "nbformat_minor": 0,
  "metadata": {
    "colab": {
      "provenance": []
    },
    "kernelspec": {
      "name": "python3",
      "display_name": "Python 3"
    },
    "language_info": {
      "name": "python"
    }
  },
  "cells": [
    {
      "cell_type": "code",
      "execution_count": 1,
      "metadata": {
        "colab": {
          "base_uri": "https://localhost:8080/"
        },
        "id": "60ZaiXchZHrR",
        "outputId": "88027c9a-1626-4ab8-8f35-22c2cb8a9650"
      },
      "outputs": [
        {
          "output_type": "stream",
          "name": "stdout",
          "text": [
            "*\n",
            "**\n",
            "***\n",
            "****\n",
            "*****\n"
          ]
        }
      ],
      "source": [
        "#que 1 - right angled triangle\n",
        "n = 5\n",
        "for i in range(1, n+1):\n",
        "    print(\"*\" * i)"
      ]
    },
    {
      "cell_type": "code",
      "source": [
        "#que 2 - inverted right angled triangle\n",
        "n = 5\n",
        "for i in range(n, 0, -1):\n",
        "    print(\"*\" * i)"
      ],
      "metadata": {
        "colab": {
          "base_uri": "https://localhost:8080/"
        },
        "id": "DCgMcR4_Zt2M",
        "outputId": "882124fc-96f1-4b6c-9f86-4a50435fa475"
      },
      "execution_count": 2,
      "outputs": [
        {
          "output_type": "stream",
          "name": "stdout",
          "text": [
            "*****\n",
            "****\n",
            "***\n",
            "**\n",
            "*\n"
          ]
        }
      ]
    },
    {
      "cell_type": "code",
      "source": [
        "#que 3 - right aligned triangle\n",
        "n = 5\n",
        "for i in range(1, n+1):\n",
        "    print(\" \" * (n - i) + \"*\" * i)"
      ],
      "metadata": {
        "colab": {
          "base_uri": "https://localhost:8080/"
        },
        "id": "Re9G-WtUZty0",
        "outputId": "5cbd79bc-8982-451c-b7af-be1aa01e4d65"
      },
      "execution_count": 3,
      "outputs": [
        {
          "output_type": "stream",
          "name": "stdout",
          "text": [
            "    *\n",
            "   **\n",
            "  ***\n",
            " ****\n",
            "*****\n"
          ]
        }
      ]
    },
    {
      "cell_type": "code",
      "source": [
        "#que 4 - inverted right aligned triangle\n",
        "n = 5\n",
        "for i in range(n, 0, -1):\n",
        "    print(\" \" * (n - i) + \"*\" * i)"
      ],
      "metadata": {
        "colab": {
          "base_uri": "https://localhost:8080/"
        },
        "id": "la4dFLUDZtwD",
        "outputId": "ba910b00-a972-4891-85ff-29b1f05233f8"
      },
      "execution_count": 4,
      "outputs": [
        {
          "output_type": "stream",
          "name": "stdout",
          "text": [
            "*****\n",
            " ****\n",
            "  ***\n",
            "   **\n",
            "    *\n"
          ]
        }
      ]
    },
    {
      "cell_type": "code",
      "source": [
        "#que 5 - full pyramid\n",
        "n = 5\n",
        "for i in range(n):\n",
        "    print(\" \" * (n - i - 1) + \"* \" * (i + 1))\n"
      ],
      "metadata": {
        "colab": {
          "base_uri": "https://localhost:8080/"
        },
        "id": "_YxH7bZCZttB",
        "outputId": "aa4bc10e-b1bc-4a92-c2c1-e202a27111ec"
      },
      "execution_count": 5,
      "outputs": [
        {
          "output_type": "stream",
          "name": "stdout",
          "text": [
            "    * \n",
            "   * * \n",
            "  * * * \n",
            " * * * * \n",
            "* * * * * \n"
          ]
        }
      ]
    },
    {
      "cell_type": "code",
      "source": [
        "#que 8 - number triangle\n",
        "n = 5\n",
        "for i in range(1, n+1):\n",
        "    print(\" \".join(str(j) for j in range(1, i+1)))"
      ],
      "metadata": {
        "colab": {
          "base_uri": "https://localhost:8080/"
        },
        "id": "Il-e4cRpZtqT",
        "outputId": "f28c6024-6c46-499b-bdba-4ecc73b41e6a"
      },
      "execution_count": 6,
      "outputs": [
        {
          "output_type": "stream",
          "name": "stdout",
          "text": [
            "1\n",
            "1 2\n",
            "1 2 3\n",
            "1 2 3 4\n",
            "1 2 3 4 5\n"
          ]
        }
      ]
    },
    {
      "cell_type": "code",
      "source": [
        "#que 13 - diamond star pattern\n",
        "n = 5\n",
        "for i in range(n):\n",
        "    print(\" \" * (n - i - 1) + \"* \" * (i + 1))\n",
        "for i in range(n-2, -1, -1):\n",
        "    print(\" \" * (n - i - 1) + \"* \" * (i + 1))\n"
      ],
      "metadata": {
        "colab": {
          "base_uri": "https://localhost:8080/"
        },
        "id": "7fdJ0050Ztk4",
        "outputId": "4cdb2f68-a6e0-4530-c4e5-a7dfeaad36b4"
      },
      "execution_count": 8,
      "outputs": [
        {
          "output_type": "stream",
          "name": "stdout",
          "text": [
            "    * \n",
            "   * * \n",
            "  * * * \n",
            " * * * * \n",
            "* * * * * \n",
            " * * * * \n",
            "  * * * \n",
            "   * * \n",
            "    * \n"
          ]
        }
      ]
    },
    {
      "cell_type": "code",
      "source": [
        "#que 15 - hollow square pattern\n",
        "n = 5\n",
        "for i in range(n):\n",
        "    if i == 0 or i == n - 1:\n",
        "        print(\"* \" * n)\n",
        "    else:\n",
        "        print(\"* \" + \"  \" * (n - 2) + \"*\")\n"
      ],
      "metadata": {
        "colab": {
          "base_uri": "https://localhost:8080/"
        },
        "id": "SqreOtPYbBIG",
        "outputId": "acaa691e-ace4-4dd9-bf33-03c36d209598"
      },
      "execution_count": 9,
      "outputs": [
        {
          "output_type": "stream",
          "name": "stdout",
          "text": [
            "* * * * * \n",
            "*       *\n",
            "*       *\n",
            "*       *\n",
            "* * * * * \n"
          ]
        }
      ]
    },
    {
      "cell_type": "code",
      "source": [
        "#que 17 - Pascal’s Triangle\n",
        "n = 5\n",
        "for i in range(n):\n",
        "    num = 1\n",
        "    print(\" \" * (n - i), end=\"\")\n",
        "    for j in range(i + 1):\n",
        "        print(num, end=\" \")\n",
        "        num = num * (i - j) // (j + 1)\n",
        "    print()"
      ],
      "metadata": {
        "colab": {
          "base_uri": "https://localhost:8080/"
        },
        "id": "H6ciTm5rbCjq",
        "outputId": "2b4b7c89-7e48-480b-ed52-b20cff120e07"
      },
      "execution_count": 10,
      "outputs": [
        {
          "output_type": "stream",
          "name": "stdout",
          "text": [
            "     1 \n",
            "    1 1 \n",
            "   1 2 1 \n",
            "  1 3 3 1 \n",
            " 1 4 6 4 1 \n"
          ]
        }
      ]
    },
    {
      "cell_type": "code",
      "source": [],
      "metadata": {
        "id": "9BtNpkvFbLn9"
      },
      "execution_count": null,
      "outputs": []
    }
  ]
}