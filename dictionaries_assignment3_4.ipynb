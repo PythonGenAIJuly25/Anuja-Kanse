{
  "cells": [
    {
      "cell_type": "markdown",
      "metadata": {
        "id": "PItK7fr8UluO"
      },
      "source": [
        "# Module 3: Data Structures Assignments\n",
        "## Lesson 3.4: Dictionaries\n",
        "### Assignment 1: Creating and Accessing Dictionaries\n",
        "\n",
        "Create a dictionary with the first 10 positive integers as keys and their squares as values. Print the dictionary.\n",
        "\n",
        "### Assignment 2: Accessing Dictionary Elements\n",
        "\n",
        "Print the value of the key 5 and the keys of the dictionary created in Assignment 1.\n",
        "\n",
        "### Assignment 3: Dictionary Methods\n",
        "\n",
        "Add a new key-value pair (11, 121) to the dictionary created in Assignment 1 and then remove the key-value pair with key 1. Print the modified dictionary.\n",
        "\n",
        "### Assignment 4: Iterating Over Dictionaries\n",
        "\n",
        "Iterate over the dictionary created in Assignment 1 and print each key-value pair.\n",
        "\n",
        "### Assignment 5: Dictionary Comprehensions\n",
        "\n",
        "Create a new dictionary containing the cubes of the first 10 positive integers using a dictionary comprehension. Print the new dictionary.\n",
        "\n",
        "### Assignment 6: Merging Dictionaries\n",
        "\n",
        "Create two dictionaries: one with keys as the first 5 positive integers and values as their squares, and another with keys as the next 5 positive integers and values as their squares. Merge these dictionaries into a single dictionary and print it.\n",
        "\n",
        "### Assignment 7: Nested Dictionaries\n",
        "\n",
        "Create a nested dictionary representing a student with keys 'name', 'age', 'grades', where 'grades' is another dictionary with keys 'math', 'science', and 'english'. Print the nested dictionary.\n",
        "\n",
        "### Assignment 8: Dictionary of Lists\n",
        "\n",
        "Create a dictionary where the keys are the first 5 positive integers and the values are lists containing the first 5 multiples of the key. Print the dictionary.\n",
        "\n",
        "### Assignment 9: Dictionary of Tuples\n",
        "\n",
        "Create a dictionary where the keys are the first 5 positive integers and the values are tuples containing the key and its square. Print the dictionary.\n",
        "\n",
        "### Assignment 10: Dictionary and List Conversion\n",
        "\n",
        "Create a dictionary with the first 5 positive integers as keys and their squares as values. Convert the dictionary to a list of tuples and print it.\n",
        "\n",
        "### Assignment 11: Dictionary Filtering\n",
        "\n",
        "Create a dictionary with the first 10 positive integers as keys and their squares as values. Create a new dictionary containing only the key-value pairs where the key is even. Print the new dictionary.\n",
        "\n",
        "### Assignment 12: Dictionary Key and Value Transformation\n",
        "\n",
        "Create a dictionary with the first 5 positive integers as keys and their squares as values. Create a new dictionary with keys and values swapped. Print the new dictionary.\n",
        "\n",
        "### Assignment 13: Default Dictionary\n",
        "\n",
        "Create a default dictionary where each key has a default value of an empty list. Add some elements to the lists and print the dictionary.\n",
        "\n",
        "### Assignment 14: Counting with Dictionaries\n",
        "\n",
        "Write a function that takes a string and returns a dictionary with the count of each character in the string. Print the dictionary.\n",
        "\n",
        "### Assignment 15: Dictionary and JSON\n",
        "\n",
        "Create a dictionary representing a book with keys 'title', 'author', 'year', and 'genre'. Convert the dictionary to a JSON string and print it."
      ],
      "id": "PItK7fr8UluO"
    },
    {
      "cell_type": "code",
      "execution_count": 2,
      "metadata": {
        "colab": {
          "base_uri": "https://localhost:8080/"
        },
        "id": "Vv-ozbNuUluQ",
        "outputId": "781f488a-eaaf-4d06-ebc9-9a49884c4edd"
      },
      "outputs": [
        {
          "output_type": "stream",
          "name": "stdout",
          "text": [
            "Dictionary with squares: {1: 1, 2: 4, 3: 9, 4: 16, 5: 25, 6: 36, 7: 49, 8: 64, 9: 81, 10: 100}\n"
          ]
        }
      ],
      "source": [
        "#que 1\n",
        "num = {x: x * x for x in range(1, 11)}\n",
        "print(\"Dictionary with squares:\", num)"
      ],
      "id": "Vv-ozbNuUluQ"
    },
    {
      "cell_type": "code",
      "source": [
        "#que 2\n",
        "print(\"Value for key 5:\", num[5])\n",
        "print(\"All keys:\", list(num.keys()))"
      ],
      "metadata": {
        "colab": {
          "base_uri": "https://localhost:8080/"
        },
        "id": "sZBCQPopVeLq",
        "outputId": "75f612cd-5f37-4ab2-9287-0fa03f7ac9fc"
      },
      "id": "sZBCQPopVeLq",
      "execution_count": 3,
      "outputs": [
        {
          "output_type": "stream",
          "name": "stdout",
          "text": [
            "Value for key 5: 25\n",
            "All keys: [1, 2, 3, 4, 5, 6, 7, 8, 9, 10]\n"
          ]
        }
      ]
    },
    {
      "cell_type": "code",
      "source": [
        "#que 3\n",
        "num[11] = 121\n",
        "del num[1]\n",
        "print(\"Modified dictionary:\", num)"
      ],
      "metadata": {
        "colab": {
          "base_uri": "https://localhost:8080/"
        },
        "id": "4OlwcOe8Vd9l",
        "outputId": "fbdb00be-1838-4a46-ffeb-f2d5579e1036"
      },
      "id": "4OlwcOe8Vd9l",
      "execution_count": 4,
      "outputs": [
        {
          "output_type": "stream",
          "name": "stdout",
          "text": [
            "Modified dictionary: {2: 4, 3: 9, 4: 16, 5: 25, 6: 36, 7: 49, 8: 64, 9: 81, 10: 100, 11: 121}\n"
          ]
        }
      ]
    },
    {
      "cell_type": "code",
      "source": [
        "#que 4\n",
        "for k, v in num.items():\n",
        "    print(k, \"->\", v)"
      ],
      "metadata": {
        "colab": {
          "base_uri": "https://localhost:8080/"
        },
        "id": "mbw8KMEDVdxr",
        "outputId": "97acf618-985b-415f-de7c-a6b10771c2da"
      },
      "id": "mbw8KMEDVdxr",
      "execution_count": 5,
      "outputs": [
        {
          "output_type": "stream",
          "name": "stdout",
          "text": [
            "2 -> 4\n",
            "3 -> 9\n",
            "4 -> 16\n",
            "5 -> 25\n",
            "6 -> 36\n",
            "7 -> 49\n",
            "8 -> 64\n",
            "9 -> 81\n",
            "10 -> 100\n",
            "11 -> 121\n"
          ]
        }
      ]
    },
    {
      "cell_type": "code",
      "source": [
        "#que 5\n",
        "cube = {n: n ** 3 for n in range(1, 11)}\n",
        "print(\"cubes dictionary:\", cube)"
      ],
      "metadata": {
        "colab": {
          "base_uri": "https://localhost:8080/"
        },
        "id": "T4NG3XaLVdlh",
        "outputId": "90861549-6f69-46db-de51-ae4f70d125f8"
      },
      "id": "T4NG3XaLVdlh",
      "execution_count": 6,
      "outputs": [
        {
          "output_type": "stream",
          "name": "stdout",
          "text": [
            "cubes dictionary: {1: 1, 2: 8, 3: 27, 4: 64, 5: 125, 6: 216, 7: 343, 8: 512, 9: 729, 10: 1000}\n"
          ]
        }
      ]
    },
    {
      "cell_type": "code",
      "source": [
        "#que 6\n",
        "d1 = {i: i * i for i in range(1, 6)}\n",
        "d2 = {i: i * i for i in range(6, 11)}\n",
        "merged = {**d1, **d2}\n",
        "print(\"Merged dictionary:\", merged)"
      ],
      "metadata": {
        "colab": {
          "base_uri": "https://localhost:8080/"
        },
        "id": "2ulTKvfXVdaW",
        "outputId": "fb05ceed-bf72-404e-84ef-e076e625334e"
      },
      "id": "2ulTKvfXVdaW",
      "execution_count": 7,
      "outputs": [
        {
          "output_type": "stream",
          "name": "stdout",
          "text": [
            "Merged dictionary: {1: 1, 2: 4, 3: 9, 4: 16, 5: 25, 6: 36, 7: 49, 8: 64, 9: 81, 10: 100}\n"
          ]
        }
      ]
    },
    {
      "cell_type": "code",
      "source": [
        "#que 7\n",
        "student = {\n",
        "    \"name\": \"Anuja\",\n",
        "    \"age\": 21,\n",
        "    \"grades\": {\n",
        "        \"math\": 70,\n",
        "        \"science\": 91,\n",
        "        \"english\": 85\n",
        "    }\n",
        "}\n",
        "print(\"Student info:\", student)"
      ],
      "metadata": {
        "colab": {
          "base_uri": "https://localhost:8080/"
        },
        "id": "uaFDifIjVdOs",
        "outputId": "46764557-49d3-49bf-c4f1-8728a14dd249"
      },
      "id": "uaFDifIjVdOs",
      "execution_count": 8,
      "outputs": [
        {
          "output_type": "stream",
          "name": "stdout",
          "text": [
            "Student info: {'name': 'Anuja', 'age': 21, 'grades': {'math': 70, 'science': 91, 'english': 85}}\n"
          ]
        }
      ]
    },
    {
      "cell_type": "code",
      "source": [
        "#que 8\n",
        "multi = {i: [i * j for j in range(1, 6)] for i in range(1, 6)}\n",
        "print(\"Multiples dictionary:\", multi)"
      ],
      "metadata": {
        "colab": {
          "base_uri": "https://localhost:8080/"
        },
        "id": "C4OYR2ymVdDf",
        "outputId": "01b58e1c-bcca-4a87-f71b-2235196c3e82"
      },
      "id": "C4OYR2ymVdDf",
      "execution_count": 9,
      "outputs": [
        {
          "output_type": "stream",
          "name": "stdout",
          "text": [
            "Multiples dictionary: {1: [1, 2, 3, 4, 5], 2: [2, 4, 6, 8, 10], 3: [3, 6, 9, 12, 15], 4: [4, 8, 12, 16, 20], 5: [5, 10, 15, 20, 25]}\n"
          ]
        }
      ]
    },
    {
      "cell_type": "code",
      "source": [
        "#que 9\n",
        "tup_dict = {i: (i, i ** 2) for i in range(1, 6)}\n",
        "print(\"Dictionary of tuples:\", tup_dict)"
      ],
      "metadata": {
        "colab": {
          "base_uri": "https://localhost:8080/"
        },
        "id": "1RO72MxdVc33",
        "outputId": "6a8cda54-55fd-4a15-d7fb-4486a0527296"
      },
      "id": "1RO72MxdVc33",
      "execution_count": 10,
      "outputs": [
        {
          "output_type": "stream",
          "name": "stdout",
          "text": [
            "Dictionary of tuples: {1: (1, 1), 2: (2, 4), 3: (3, 9), 4: (4, 16), 5: (5, 25)}\n"
          ]
        }
      ]
    },
    {
      "cell_type": "code",
      "source": [
        "#que 10\n",
        "sample = {i: i * i for i in range(1, 6)}\n",
        "tuple_list = list(sample.items())\n",
        "print(\"list of tuple:\", tuple_list)"
      ],
      "metadata": {
        "colab": {
          "base_uri": "https://localhost:8080/"
        },
        "id": "20W1bEhkVctp",
        "outputId": "3e349aef-328c-48ba-a695-aec054176737"
      },
      "id": "20W1bEhkVctp",
      "execution_count": 11,
      "outputs": [
        {
          "output_type": "stream",
          "name": "stdout",
          "text": [
            "list of tuple: [(1, 1), (2, 4), (3, 9), (4, 16), (5, 25)]\n"
          ]
        }
      ]
    },
    {
      "cell_type": "code",
      "source": [
        "#que 11\n",
        "all_vals = {x: x * x for x in range(1, 11)}\n",
        "evens_only = {k: v for k, v in all_vals.items() if k % 2 == 0}\n",
        "print(\"filtered dictionary (even keys):\", evens_only)"
      ],
      "metadata": {
        "colab": {
          "base_uri": "https://localhost:8080/"
        },
        "id": "jQsAJRllVciJ",
        "outputId": "6aff96df-f4e9-4c5b-ace0-5c979a268fb1"
      },
      "id": "jQsAJRllVciJ",
      "execution_count": 12,
      "outputs": [
        {
          "output_type": "stream",
          "name": "stdout",
          "text": [
            "filtered dictionary (even keys): {2: 4, 4: 16, 6: 36, 8: 64, 10: 100}\n"
          ]
        }
      ]
    },
    {
      "cell_type": "code",
      "source": [
        "#que 12\n",
        "original = {x: x * x for x in range(1, 6)}\n",
        "swapped = {v: k for k, v in original.items()}\n",
        "print(\"swapped dictionary:\", swapped)"
      ],
      "metadata": {
        "colab": {
          "base_uri": "https://localhost:8080/"
        },
        "id": "e1H95ZTKVcXY",
        "outputId": "8549222d-5fee-42f6-c05c-341e00c25493"
      },
      "id": "e1H95ZTKVcXY",
      "execution_count": 13,
      "outputs": [
        {
          "output_type": "stream",
          "name": "stdout",
          "text": [
            "swapped dictionary: {1: 1, 4: 2, 9: 3, 16: 4, 25: 5}\n"
          ]
        }
      ]
    },
    {
      "cell_type": "code",
      "source": [
        "#que 13\n",
        "from collections import defaultdict\n",
        "\n",
        "default_dict = defaultdict(list)\n",
        "default_dict['fruits'].append('apple')\n",
        "default_dict['fruits'].append('banana')\n",
        "default_dict['colors'].append('blue')\n",
        "\n",
        "print(\"Default dict:\", dict(default_dict))"
      ],
      "metadata": {
        "colab": {
          "base_uri": "https://localhost:8080/"
        },
        "id": "HkIPWvtgVcML",
        "outputId": "9d641e8d-1c1d-4957-b98c-5dec2fa91766"
      },
      "id": "HkIPWvtgVcML",
      "execution_count": 14,
      "outputs": [
        {
          "output_type": "stream",
          "name": "stdout",
          "text": [
            "Default dict: {'fruits': ['apple', 'banana'], 'colors': ['blue']}\n"
          ]
        }
      ]
    },
    {
      "cell_type": "code",
      "source": [
        "#que 14\n",
        "def countchars(text):\n",
        "    result = {}\n",
        "    for char in text:\n",
        "        result[char] = result.get(char, 0) + 1\n",
        "    return result\n",
        "\n",
        "print(\"Character counts:\", countchars(\"elephant\"))"
      ],
      "metadata": {
        "colab": {
          "base_uri": "https://localhost:8080/"
        },
        "id": "TIJAU5IgVcAv",
        "outputId": "e08de327-39d5-44e8-f59d-40ec303febf5"
      },
      "id": "TIJAU5IgVcAv",
      "execution_count": 17,
      "outputs": [
        {
          "output_type": "stream",
          "name": "stdout",
          "text": [
            "Character counts: {'e': 2, 'l': 1, 'p': 1, 'h': 1, 'a': 1, 'n': 1, 't': 1}\n"
          ]
        }
      ]
    },
    {
      "cell_type": "code",
      "source": [
        "#que 15\n",
        "import json\n",
        "\n",
        "book = {\n",
        "    \"title\": \"xyz\",\n",
        "    \"author\": \"abcds\",\n",
        "    \"year\": 2025,\n",
        "    \"genre\": \"crash\"\n",
        "}\n",
        "json_string = json.dumps(book)\n",
        "print(\"Book in JSON:\", json_string)"
      ],
      "metadata": {
        "colab": {
          "base_uri": "https://localhost:8080/"
        },
        "id": "oEcwp2blVb0n",
        "outputId": "c18f6e26-5201-4c2a-88cb-2f65882f56ee"
      },
      "id": "oEcwp2blVb0n",
      "execution_count": 16,
      "outputs": [
        {
          "output_type": "stream",
          "name": "stdout",
          "text": [
            "Book in JSON: {\"title\": \"xyz\", \"author\": \"abcds\", \"year\": 2025, \"genre\": \"crash\"}\n"
          ]
        }
      ]
    },
    {
      "cell_type": "code",
      "source": [],
      "metadata": {
        "id": "AHO9pCssW4Mh"
      },
      "id": "AHO9pCssW4Mh",
      "execution_count": null,
      "outputs": []
    }
  ],
  "metadata": {
    "kernelspec": {
      "display_name": "Python 3",
      "language": "python",
      "name": "python3"
    },
    "language_info": {
      "codemirror_mode": {
        "name": "ipython",
        "version": 3
      },
      "file_extension": ".py",
      "mimetype": "text/x-python",
      "name": "python",
      "nbconvert_exporter": "python",
      "pygments_lexer": "ipython3",
      "version": "3.9.7"
    },
    "colab": {
      "provenance": []
    }
  },
  "nbformat": 4,
  "nbformat_minor": 5
}