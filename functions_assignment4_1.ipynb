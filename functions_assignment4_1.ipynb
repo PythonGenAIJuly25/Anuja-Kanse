{
  "cells": [
    {
      "cell_type": "markdown",
      "metadata": {
        "id": "YFg02nrtzKbd"
      },
      "source": [
        "# Module 4: Functions Assignments\n",
        "## Lesson 4.1: Defining Functions\n",
        "### Assignment 1: Simple Function\n",
        "\n",
        "Define a function that takes a single integer as input and returns its square. Test the function with different inputs.\n",
        "\n",
        "### Assignment 2: Multiple Arguments\n",
        "\n",
        "Define a function that takes two integers as input and returns their sum. Test the function with different inputs.\n",
        "\n",
        "### Assignment 3: Default Arguments\n",
        "\n",
        "Define a function that takes two integers as input and returns their sum. The second integer should have a default value of 5. Test the function with different inputs.\n",
        "\n",
        "### Assignment 4: Keyword Arguments\n",
        "\n",
        "Define a function that takes three named arguments: first_name, last_name, and age, and returns a formatted string. Test the function with different inputs.\n",
        "\n",
        "### Assignment 5: Variable-length Arguments\n",
        "\n",
        "Define a function that takes a variable number of integer arguments and returns their product. Test the function with different inputs.\n",
        "\n",
        "### Assignment 6: Nested Functions\n",
        "\n",
        "Define a function that contains another function inside it. The outer function should take two integers as input and return the result of the inner function, which multiplies the two integers. Test the function with different inputs.\n",
        "\n",
        "### Assignment 7: Returning Multiple Values\n",
        "\n",
        "Define a function that takes a single integer as input and returns the integer squared, cubed, and raised to the power of four. Test the function with different inputs.\n",
        "\n",
        "### Assignment 8: Recursive Function\n",
        "\n",
        "Define a recursive function that calculates the factorial of a given number. Test the function with different inputs.\n",
        "\n",
        "### Assignment 9: Lambda Function\n",
        "\n",
        "Define a lambda function that takes two integers as input and returns their sum. Test the lambda function with different inputs.\n",
        "\n",
        "### Assignment 10: Map Function\n",
        "\n",
        "Use the map function to apply a lambda function that squares each number in a list of integers. Test with different lists.\n",
        "\n",
        "### Assignment 11: Filter Function\n",
        "\n",
        "Use the filter function to filter out all odd numbers from a list of integers. Test with different lists.\n",
        "\n",
        "### Assignment 12: Function Decorator\n",
        "\n",
        "Define a decorator function that prints 'Executing function...' before executing a function and 'Function executed.' after executing it. Apply this decorator to a function that takes a list of integers and returns their sum. Test the decorated function with different lists.\n",
        "\n",
        "### Assignment 13: Function with *args and **kwargs\n",
        "\n",
        "Define a function that takes variable-length arguments and keyword arguments and prints them. Test the function with different inputs.\n",
        "\n",
        "### Assignment 14: Higher-Order Function\n",
        "\n",
        "Define a higher-order function that takes a function and a list of integers as arguments, and applies the function to each integer in the list. Test with different functions and lists.\n",
        "\n",
        "### Assignment 15: Function Documentation\n",
        "\n",
        "Define a function with a docstring that explains what the function does, its parameters, and its return value. Print the function's docstring."
      ],
      "id": "YFg02nrtzKbd"
    },
    {
      "cell_type": "code",
      "execution_count": 1,
      "metadata": {
        "colab": {
          "base_uri": "https://localhost:8080/"
        },
        "id": "oXDvs-W6zKbh",
        "outputId": "b116d795-2bae-4fa7-b0a2-4bd7af1a9fb2"
      },
      "outputs": [
        {
          "output_type": "stream",
          "name": "stdout",
          "text": [
            "9\n",
            "25\n"
          ]
        }
      ],
      "source": [
        "#que 1\n",
        "def squarenum(n):\n",
        "    return n * n\n",
        "\n",
        "print(squarenum(3))\n",
        "print(squarenum(5))"
      ],
      "id": "oXDvs-W6zKbh"
    },
    {
      "cell_type": "code",
      "source": [
        "#que 2\n",
        "def addnum(x, y):\n",
        "    return x + y\n",
        "\n",
        "print(addnum(8, 7))\n",
        "print(addnum(17, 22))"
      ],
      "metadata": {
        "colab": {
          "base_uri": "https://localhost:8080/"
        },
        "id": "pwbTUWbfz4ks",
        "outputId": "b5b62ff1-7465-49e4-9063-901afab7655d"
      },
      "id": "pwbTUWbfz4ks",
      "execution_count": 4,
      "outputs": [
        {
          "output_type": "stream",
          "name": "stdout",
          "text": [
            "15\n",
            "39\n"
          ]
        }
      ]
    },
    {
      "cell_type": "code",
      "source": [
        "#que 3\n",
        "def defaultargu(a, b=5):\n",
        "    return a + b\n",
        "\n",
        "print(defaultargu(3))\n",
        "print(defaultargu(3, 10))"
      ],
      "metadata": {
        "colab": {
          "base_uri": "https://localhost:8080/"
        },
        "id": "Cd9iNnpfz4Xj",
        "outputId": "ef1a6cda-d02a-4b87-ca35-996f64447066"
      },
      "id": "Cd9iNnpfz4Xj",
      "execution_count": 5,
      "outputs": [
        {
          "output_type": "stream",
          "name": "stdout",
          "text": [
            "8\n",
            "13\n"
          ]
        }
      ]
    },
    {
      "cell_type": "code",
      "source": [
        "#que 4\n",
        "def keywordargu(first_name, last_name, age):\n",
        "    return f\"{first_name} {last_name} is {age} years old\"\n",
        "\n",
        "print(keywordargu(first_name=\"Anuja\", last_name=\"Kanse\", age=21))"
      ],
      "metadata": {
        "colab": {
          "base_uri": "https://localhost:8080/"
        },
        "id": "KYPwSx6Uz4KZ",
        "outputId": "2c43a6e0-f94e-4293-b5b5-e8be7ee1bd0d"
      },
      "id": "KYPwSx6Uz4KZ",
      "execution_count": 6,
      "outputs": [
        {
          "output_type": "stream",
          "name": "stdout",
          "text": [
            "Anuja Kanse is 21 years old\n"
          ]
        }
      ]
    },
    {
      "cell_type": "code",
      "source": [
        "#que 5\n",
        "def variablelengthargu(*nums):\n",
        "    result = 1\n",
        "    for i in nums:\n",
        "        result *= i\n",
        "    return result\n",
        "\n",
        "print(variablelengthargu(2, 3, 4))\n",
        "print(variablelengthargu(1, 2, 3, 4, 5))"
      ],
      "metadata": {
        "colab": {
          "base_uri": "https://localhost:8080/"
        },
        "id": "lOjP077Nz3-i",
        "outputId": "c4a6787f-e4e5-41d5-b609-521a366f2f7f"
      },
      "id": "lOjP077Nz3-i",
      "execution_count": 7,
      "outputs": [
        {
          "output_type": "stream",
          "name": "stdout",
          "text": [
            "24\n",
            "120\n"
          ]
        }
      ]
    },
    {
      "cell_type": "code",
      "source": [
        "#que 6 nested function\n",
        "def outer_function(a, b):\n",
        "    def inner_function(x, y):\n",
        "        return x * y\n",
        "    return inner_function(a, b)\n",
        "\n",
        "print(outer_function(4, 5))"
      ],
      "metadata": {
        "colab": {
          "base_uri": "https://localhost:8080/"
        },
        "id": "wzJXiKVAz3yh",
        "outputId": "c7cdea42-668c-40cb-b0d5-2340f08b56a6"
      },
      "id": "wzJXiKVAz3yh",
      "execution_count": 8,
      "outputs": [
        {
          "output_type": "stream",
          "name": "stdout",
          "text": [
            "20\n"
          ]
        }
      ]
    },
    {
      "cell_type": "code",
      "source": [
        "#que 7 return multiple values\n",
        "def powers(n):\n",
        "    return n**2, n**3, n**4\n",
        "\n",
        "print(powers(6))\n",
        "print(powers(8))"
      ],
      "metadata": {
        "colab": {
          "base_uri": "https://localhost:8080/"
        },
        "id": "fAAJ8Ne8z3nG",
        "outputId": "a5bd04d1-1986-453b-a108-80eac6318e44"
      },
      "id": "fAAJ8Ne8z3nG",
      "execution_count": 9,
      "outputs": [
        {
          "output_type": "stream",
          "name": "stdout",
          "text": [
            "(36, 216, 1296)\n",
            "(64, 512, 4096)\n"
          ]
        }
      ]
    },
    {
      "cell_type": "code",
      "source": [
        "#que 8 recursive function\n",
        "def factorial(n):\n",
        "    if n == 0 or n == 1:\n",
        "        return 1\n",
        "    return n * factorial(n - 1)\n",
        "\n",
        "print(factorial(5))\n",
        "print(factorial(8))"
      ],
      "metadata": {
        "colab": {
          "base_uri": "https://localhost:8080/"
        },
        "id": "b9TcxgtPz3b4",
        "outputId": "b6353190-c4a7-4805-952e-b46b83979c27"
      },
      "id": "b9TcxgtPz3b4",
      "execution_count": 11,
      "outputs": [
        {
          "output_type": "stream",
          "name": "stdout",
          "text": [
            "120\n",
            "40320\n"
          ]
        }
      ]
    },
    {
      "cell_type": "code",
      "source": [
        "#que 9 lambda function\n",
        "add = lambda a, b: a + b\n",
        "\n",
        "print(add(10, 15))\n",
        "print(add(5, 6))"
      ],
      "metadata": {
        "colab": {
          "base_uri": "https://localhost:8080/"
        },
        "id": "mMtBiZIOz3QL",
        "outputId": "d922ba78-1c8c-4cc8-b778-71cdbd414455"
      },
      "id": "mMtBiZIOz3QL",
      "execution_count": 12,
      "outputs": [
        {
          "output_type": "stream",
          "name": "stdout",
          "text": [
            "25\n",
            "11\n"
          ]
        }
      ]
    },
    {
      "cell_type": "code",
      "source": [
        "#que 10 map function\n",
        "nums = [1, 2, 3, 4, 5]\n",
        "squares = list(map(lambda x: x * x, nums))\n",
        "print(squares)"
      ],
      "metadata": {
        "colab": {
          "base_uri": "https://localhost:8080/"
        },
        "id": "gsxowB7wz3GY",
        "outputId": "eab82e26-2a04-422f-c838-e6245190e8ed"
      },
      "id": "gsxowB7wz3GY",
      "execution_count": 13,
      "outputs": [
        {
          "output_type": "stream",
          "name": "stdout",
          "text": [
            "[1, 4, 9, 16, 25]\n"
          ]
        }
      ]
    },
    {
      "cell_type": "code",
      "source": [
        "#que 11 filter function\n",
        "nums = [1, 2, 3, 4, 5, 6]\n",
        "even = list(filter(lambda x: x % 2 == 0, nums))\n",
        "print(even)"
      ],
      "metadata": {
        "colab": {
          "base_uri": "https://localhost:8080/"
        },
        "id": "UakTTHsTz28W",
        "outputId": "a23f6615-2f19-4970-c114-cdc10a8faa5e"
      },
      "id": "UakTTHsTz28W",
      "execution_count": 15,
      "outputs": [
        {
          "output_type": "stream",
          "name": "stdout",
          "text": [
            "[2, 4, 6]\n"
          ]
        }
      ]
    },
    {
      "cell_type": "code",
      "source": [
        "#que 12 function decorator\n",
        "def decorator(func):\n",
        "    def wrapper(*args, **kwargs):\n",
        "        print(\"executing fun...\")\n",
        "        result = func(*args, **kwargs)\n",
        "        print(\"fun executed.\")\n",
        "        return result\n",
        "    return wrapper\n",
        "\n",
        "@decorator\n",
        "def sum_list(nums):\n",
        "    return sum(nums)\n",
        "\n",
        "print(sum_list([1, 2, 3, 4]))"
      ],
      "metadata": {
        "colab": {
          "base_uri": "https://localhost:8080/"
        },
        "id": "rggMr0EMz2va",
        "outputId": "e1f42e11-d220-4adf-dfeb-41e906648598"
      },
      "id": "rggMr0EMz2va",
      "execution_count": 16,
      "outputs": [
        {
          "output_type": "stream",
          "name": "stdout",
          "text": [
            "executing fun...\n",
            "fun executed.\n",
            "10\n"
          ]
        }
      ]
    },
    {
      "cell_type": "code",
      "source": [
        "#que 13\n",
        "def print_args_kwargs(*args, **kwargs):\n",
        "    print(\"Args:\", args)\n",
        "    print(\"Kwargs:\", kwargs)\n",
        "\n",
        "print_args_kwargs(1, 2, 3, name=\"Anuja\", age=21)"
      ],
      "metadata": {
        "colab": {
          "base_uri": "https://localhost:8080/"
        },
        "id": "WqSI5EDUz2kM",
        "outputId": "f6549cc2-6c06-4cb3-fa11-97c62e0c578a"
      },
      "id": "WqSI5EDUz2kM",
      "execution_count": 17,
      "outputs": [
        {
          "output_type": "stream",
          "name": "stdout",
          "text": [
            "Args: (1, 2, 3)\n",
            "Kwargs: {'name': 'Anuja', 'age': 21}\n"
          ]
        }
      ]
    },
    {
      "cell_type": "code",
      "source": [
        "#que 14 higher order function\n",
        "def applyfunction(func, numbers):\n",
        "    return [func(x) for x in numbers]\n",
        "\n",
        "def double(n):\n",
        "    return n * 2\n",
        "\n",
        "print(applyfunction(double, [1, 2, 3]))"
      ],
      "metadata": {
        "colab": {
          "base_uri": "https://localhost:8080/"
        },
        "id": "kPW8AHAuz2ZV",
        "outputId": "f3178670-8214-43e7-ee28-206c712d4334"
      },
      "id": "kPW8AHAuz2ZV",
      "execution_count": 18,
      "outputs": [
        {
          "output_type": "stream",
          "name": "stdout",
          "text": [
            "[2, 4, 6]\n"
          ]
        }
      ]
    },
    {
      "cell_type": "code",
      "source": [
        "#que 15 function documentation\n",
        "def greet(name):\n",
        "    \"\"\"This function takes a name and returns a greeting message.\"\"\"\n",
        "    return \"Hello \" + name\n",
        "\n",
        "print(greet.__doc__)\n",
        "print(greet(\"Anuja\"))"
      ],
      "metadata": {
        "colab": {
          "base_uri": "https://localhost:8080/"
        },
        "id": "xE4vPI1K0l6M",
        "outputId": "e81a1b39-09b1-4b95-8d84-3364bbc162c3"
      },
      "id": "xE4vPI1K0l6M",
      "execution_count": 20,
      "outputs": [
        {
          "output_type": "stream",
          "name": "stdout",
          "text": [
            "This function takes a name and returns a greeting message.\n",
            "Hello Anuja\n"
          ]
        }
      ]
    },
    {
      "cell_type": "code",
      "source": [],
      "metadata": {
        "id": "yI_-iqnn3t7X"
      },
      "id": "yI_-iqnn3t7X",
      "execution_count": null,
      "outputs": []
    }
  ],
  "metadata": {
    "kernelspec": {
      "display_name": "Python 3",
      "language": "python",
      "name": "python3"
    },
    "language_info": {
      "codemirror_mode": {
        "name": "ipython",
        "version": 3
      },
      "file_extension": ".py",
      "mimetype": "text/x-python",
      "name": "python",
      "nbconvert_exporter": "python",
      "pygments_lexer": "ipython3",
      "version": "3.9.7"
    },
    "colab": {
      "provenance": []
    }
  },
  "nbformat": 4,
  "nbformat_minor": 5
}