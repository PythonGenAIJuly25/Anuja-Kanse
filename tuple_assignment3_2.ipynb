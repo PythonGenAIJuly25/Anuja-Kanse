{
  "cells": [
    {
      "cell_type": "markdown",
      "id": "6cade624",
      "metadata": {
        "id": "6cade624"
      },
      "source": [
        "# Module 3: Data Structures Assignments\n",
        "## Lesson 3.2: Tuples\n",
        "### Assignment 1: Creating and Accessing Tuples\n",
        "\n",
        "Create a tuple with the first 10 positive integers. Print the tuple.\n",
        "\n",
        "### Assignment 2: Accessing Tuple Elements\n",
        "\n",
        "Print the first, middle, and last elements of the tuple created in Assignment 1.\n",
        "\n",
        "### Assignment 3: Tuple Slicing\n",
        "\n",
        "Print the first three elements, the last three elements, and the elements from index 2 to 5 of the tuple created in Assignment 1.\n",
        "\n",
        "### Assignment 4: Nested Tuples\n",
        "\n",
        "Create a nested tuple representing a 3x3 matrix and print the matrix. Access and print the element at the second row and third column.\n",
        "\n",
        "### Assignment 5: Tuple Concatenation\n",
        "\n",
        "Concatenate two tuples: (1, 2, 3) and (4, 5, 6). Print the resulting tuple.\n",
        "\n",
        "### Assignment 6: Tuple Methods\n",
        "\n",
        "Create a tuple with duplicate elements and count the occurrences of an element. Find the index of the first occurrence of an element in the tuple.\n",
        "\n",
        "### Assignment 7: Unpacking Tuples\n",
        "\n",
        "Create a tuple with 5 elements and unpack it into 5 variables. Print the variables.\n",
        "\n",
        "### Assignment 8: Tuple Conversion\n",
        "\n",
        "Convert a list of the first 5 positive integers to a tuple. Print the tuple.\n",
        "\n",
        "### Assignment 9: Tuple of Tuples\n",
        "\n",
        "Create a tuple containing 3 tuples, each with 3 elements. Print the tuple of tuples.\n",
        "\n",
        "### Assignment 10: Tuple and List\n",
        "\n",
        "Create a tuple with the first 5 positive integers. Convert it to a list, append the number 6, and convert it back to a tuple. Print the resulting tuple.\n",
        "\n",
        "### Assignment 11: Tuple and String\n",
        "\n",
        "Create a tuple with the characters of a string. Join the tuple elements into a single string. Print the string.\n",
        "\n",
        "### Assignment 12: Tuple and Dictionary\n",
        "\n",
        "Create a dictionary with tuple keys and integer values. Print the dictionary.\n",
        "\n",
        "### Assignment 13: Nested Tuple Iteration\n",
        "\n",
        "Create a nested tuple and iterate over the elements, printing each element.\n",
        "\n",
        "### Assignment 14: Tuple and Set\n",
        "\n",
        "Create a tuple with duplicate elements. Convert it to a set to remove duplicates and print the resulting set.\n",
        "\n",
        "### Assignment 15: Tuple Functions\n",
        "\n",
        "Write functions that take a tuple and return the minimum, maximum, and sum of the elements. Print the results for a sample tuple."
      ]
    },
    {
      "cell_type": "code",
      "execution_count": 1,
      "metadata": {
        "colab": {
          "base_uri": "https://localhost:8080/"
        },
        "id": "jNEDPuKwJp0G",
        "outputId": "541cd146-34df-4ab6-8f5d-5c1ce8f3437d"
      },
      "outputs": [
        {
          "output_type": "stream",
          "name": "stdout",
          "text": [
            "Tuple of first 10 integers: (1, 2, 3, 4, 5, 6, 7, 8, 9, 10)\n"
          ]
        }
      ],
      "source": [
        "#Que 1\n",
        "num = tuple(range(1, 11))\n",
        "print(\"Tuple of first 10 integers:\", num)"
      ],
      "id": "jNEDPuKwJp0G"
    },
    {
      "cell_type": "code",
      "source": [
        "#Que 2\n",
        "print(\"first element:\", num[0])\n",
        "print(\"middle element:\", num[len(num) // 2])\n",
        "print(\"last element:\", num[-1])"
      ],
      "metadata": {
        "colab": {
          "base_uri": "https://localhost:8080/"
        },
        "id": "TuQX7QRLKcOj",
        "outputId": "d56a20cf-b88c-4a88-b782-e5238cbfec7c"
      },
      "id": "TuQX7QRLKcOj",
      "execution_count": 2,
      "outputs": [
        {
          "output_type": "stream",
          "name": "stdout",
          "text": [
            "first element: 1\n",
            "middle element: 6\n",
            "last element: 10\n"
          ]
        }
      ]
    },
    {
      "cell_type": "code",
      "source": [
        "#Que 3\n",
        "print(\"first three elements:\", num[:3])\n",
        "print(\"last three elements:\", num[-3:])\n",
        "print(\"elements from index 2 to 5:\", num[2:6])"
      ],
      "metadata": {
        "colab": {
          "base_uri": "https://localhost:8080/"
        },
        "id": "VdYlKPtlKbgc",
        "outputId": "0c77e4a0-58f0-4285-d1e9-8a8afbecd431"
      },
      "id": "VdYlKPtlKbgc",
      "execution_count": 3,
      "outputs": [
        {
          "output_type": "stream",
          "name": "stdout",
          "text": [
            "first three elements: (1, 2, 3)\n",
            "last three elements: (8, 9, 10)\n",
            "elements from index 2 to 5: (3, 4, 5, 6)\n"
          ]
        }
      ]
    },
    {
      "cell_type": "code",
      "source": [
        "#Que 4\n",
        "matrix = ((1,2,3), (4,5,6), (7,8,9))\n",
        "print(\"Tuple Matrix:\")\n",
        "for row in matrix:\n",
        "    print(row)\n",
        "print(\"element at row 2, col 3:\", matrix[1][2])"
      ],
      "metadata": {
        "colab": {
          "base_uri": "https://localhost:8080/"
        },
        "id": "IUWGINYTKbRU",
        "outputId": "55dd9eae-2bf0-4ea3-de4c-d49419b363c4"
      },
      "id": "IUWGINYTKbRU",
      "execution_count": 4,
      "outputs": [
        {
          "output_type": "stream",
          "name": "stdout",
          "text": [
            "Tuple Matrix:\n",
            "(1, 2, 3)\n",
            "(4, 5, 6)\n",
            "(7, 8, 9)\n",
            "element at row 2, col 3: 6\n"
          ]
        }
      ]
    },
    {
      "cell_type": "code",
      "source": [
        "#Que 5\n",
        "a = (1, 2, 3)\n",
        "b = (4, 5, 6)\n",
        "combined = a + b\n",
        "print(\"concatenated tuple:\", combined)"
      ],
      "metadata": {
        "colab": {
          "base_uri": "https://localhost:8080/"
        },
        "id": "5-WMgiHUKbDL",
        "outputId": "44964a83-6141-4d47-bd16-71a4741e8acc"
      },
      "id": "5-WMgiHUKbDL",
      "execution_count": 5,
      "outputs": [
        {
          "output_type": "stream",
          "name": "stdout",
          "text": [
            "concatenated tuple: (1, 2, 3, 4, 5, 6)\n"
          ]
        }
      ]
    },
    {
      "cell_type": "code",
      "source": [
        "#Que 6\n",
        "items = (2, 4, 6, 4, 2, 4, 8)\n",
        "print(\"count of 4:\", items.count(4))\n",
        "print(\"first index of 2:\", items.index(2))"
      ],
      "metadata": {
        "colab": {
          "base_uri": "https://localhost:8080/"
        },
        "id": "HWJ07-6fKayk",
        "outputId": "ce755d6d-1607-4160-b1da-66c3c95c7ef6"
      },
      "id": "HWJ07-6fKayk",
      "execution_count": 6,
      "outputs": [
        {
          "output_type": "stream",
          "name": "stdout",
          "text": [
            "count of 4: 3\n",
            "first index of 2: 0\n"
          ]
        }
      ]
    },
    {
      "cell_type": "code",
      "source": [
        "#Que 7\n",
        "data = (10, 20, 30, 40, 50)\n",
        "a, b, c, d, e = data\n",
        "print(\"values:\", a, b, c, d, e)"
      ],
      "metadata": {
        "colab": {
          "base_uri": "https://localhost:8080/"
        },
        "id": "ciRtDJSnKaiv",
        "outputId": "3bd62f6f-8f5f-40af-a6d6-2e7924383a7c"
      },
      "id": "ciRtDJSnKaiv",
      "execution_count": 7,
      "outputs": [
        {
          "output_type": "stream",
          "name": "stdout",
          "text": [
            "values: 10 20 30 40 50\n"
          ]
        }
      ]
    },
    {
      "cell_type": "code",
      "source": [
        "#Que 8\n",
        "lst = [1, 2, 3, 4, 5]\n",
        "tup = tuple(lst)\n",
        "print(\"Tuple from list:\", tup)"
      ],
      "metadata": {
        "colab": {
          "base_uri": "https://localhost:8080/"
        },
        "id": "tJ0U36q_KaV7",
        "outputId": "f8155882-c663-46b0-d0f6-4cfd52a6106c"
      },
      "id": "tJ0U36q_KaV7",
      "execution_count": 8,
      "outputs": [
        {
          "output_type": "stream",
          "name": "stdout",
          "text": [
            "Tuple from list: (1, 2, 3, 4, 5)\n"
          ]
        }
      ]
    },
    {
      "cell_type": "code",
      "source": [
        "#Que 9\n",
        "nested = ((1,2,3), (4,5,6), (7,8,9))\n",
        "print(\"tuple of tuples:\")\n",
        "print(nested)"
      ],
      "metadata": {
        "colab": {
          "base_uri": "https://localhost:8080/"
        },
        "id": "wsjbnvPLKaFs",
        "outputId": "b7ce76b5-efe0-40e8-c80b-57e0422f2877"
      },
      "id": "wsjbnvPLKaFs",
      "execution_count": 9,
      "outputs": [
        {
          "output_type": "stream",
          "name": "stdout",
          "text": [
            "tuple of tuples:\n",
            "((1, 2, 3), (4, 5, 6), (7, 8, 9))\n"
          ]
        }
      ]
    },
    {
      "cell_type": "code",
      "source": [
        "#Que 10\n",
        "t = (1, 2, 3, 4, 5)\n",
        "temp = list(t)\n",
        "temp.append(6)\n",
        "t = tuple(temp)\n",
        "print(\"modified tuple:\", t)"
      ],
      "metadata": {
        "colab": {
          "base_uri": "https://localhost:8080/"
        },
        "id": "wwRoawCxKZ0c",
        "outputId": "4137486b-6001-4746-af36-975421128c1e"
      },
      "id": "wwRoawCxKZ0c",
      "execution_count": 10,
      "outputs": [
        {
          "output_type": "stream",
          "name": "stdout",
          "text": [
            "modified tuple: (1, 2, 3, 4, 5, 6)\n"
          ]
        }
      ]
    },
    {
      "cell_type": "code",
      "source": [
        "#Que 11\n",
        "s = 'a','w','e','s','o','m','e'\n",
        "chars = tuple(s)\n",
        "joined = ''.join(chars)\n",
        "print(\"joined string:\", joined)"
      ],
      "metadata": {
        "colab": {
          "base_uri": "https://localhost:8080/"
        },
        "id": "qoUC0kWWKZht",
        "outputId": "8deb4bc7-de19-4250-d6bf-0799e03b3c2f"
      },
      "id": "qoUC0kWWKZht",
      "execution_count": 12,
      "outputs": [
        {
          "output_type": "stream",
          "name": "stdout",
          "text": [
            "joined string: awesome\n"
          ]
        }
      ]
    },
    {
      "cell_type": "code",
      "source": [
        "#Que 12\n",
        "info = {('x', 'y'): 10, ('a', 'b'): 20}\n",
        "print(\"dictionary with tuple keys:\", info)"
      ],
      "metadata": {
        "colab": {
          "base_uri": "https://localhost:8080/"
        },
        "id": "eCcpkQnjKZNq",
        "outputId": "74d280b4-84a5-480d-cb5f-0921984c8b3b"
      },
      "id": "eCcpkQnjKZNq",
      "execution_count": 13,
      "outputs": [
        {
          "output_type": "stream",
          "name": "stdout",
          "text": [
            "dictionary with tuple keys: {('x', 'y'): 10, ('a', 'b'): 20}\n"
          ]
        }
      ]
    },
    {
      "cell_type": "code",
      "source": [
        "#Que 13\n",
        "nested = ((1,2), (3,4), (5,6))\n",
        "for tup in nested:\n",
        "    for val in tup:\n",
        "        print(val)"
      ],
      "metadata": {
        "colab": {
          "base_uri": "https://localhost:8080/"
        },
        "id": "5fKbs8SmKY7w",
        "outputId": "93ec2792-8e28-4d77-80f0-6a2f44d174fb"
      },
      "id": "5fKbs8SmKY7w",
      "execution_count": 14,
      "outputs": [
        {
          "output_type": "stream",
          "name": "stdout",
          "text": [
            "1\n",
            "2\n",
            "3\n",
            "4\n",
            "5\n",
            "6\n"
          ]
        }
      ]
    },
    {
      "cell_type": "code",
      "source": [
        "#Que 14\n",
        "dup = (10, 22, 32, 33, 10, 24, 22)\n",
        "uni = set(dup)\n",
        "print(\"unique elements set:\", uni)"
      ],
      "metadata": {
        "colab": {
          "base_uri": "https://localhost:8080/"
        },
        "id": "oPitfujBKYq_",
        "outputId": "08b51f7b-cac1-42e8-9d32-2f3e11551f78"
      },
      "id": "oPitfujBKYq_",
      "execution_count": 16,
      "outputs": [
        {
          "output_type": "stream",
          "name": "stdout",
          "text": [
            "unique elements set: {32, 33, 10, 22, 24}\n"
          ]
        }
      ]
    },
    {
      "cell_type": "code",
      "source": [
        "#Que 15\n",
        "def process(t):\n",
        "    return min(t), max(t), sum(t)\n",
        "\n",
        "sample = (5, 1, 8, 3, 9)\n",
        "result = process(sample)\n",
        "print(\"minimum:\", result[0])\n",
        "print(\"maximum:\", result[1])\n",
        "print(\"sum:\", result[2])"
      ],
      "metadata": {
        "colab": {
          "base_uri": "https://localhost:8080/"
        },
        "id": "V31AINm0KYJo",
        "outputId": "e4c894ad-4f8f-4f89-bd6d-cacea4797c3c"
      },
      "id": "V31AINm0KYJo",
      "execution_count": 17,
      "outputs": [
        {
          "output_type": "stream",
          "name": "stdout",
          "text": [
            "minimum: 1\n",
            "maximum: 9\n",
            "sum: 26\n"
          ]
        }
      ]
    },
    {
      "cell_type": "code",
      "source": [],
      "metadata": {
        "id": "tR7xk5Y3Q37z"
      },
      "id": "tR7xk5Y3Q37z",
      "execution_count": null,
      "outputs": []
    }
  ],
  "metadata": {
    "kernelspec": {
      "display_name": "Python 3",
      "language": "python",
      "name": "python3"
    },
    "language_info": {
      "codemirror_mode": {
        "name": "ipython",
        "version": 3
      },
      "file_extension": ".py",
      "mimetype": "text/x-python",
      "name": "python",
      "nbconvert_exporter": "python",
      "pygments_lexer": "ipython3",
      "version": "3.9.7"
    },
    "colab": {
      "provenance": []
    }
  },
  "nbformat": 4,
  "nbformat_minor": 5
}